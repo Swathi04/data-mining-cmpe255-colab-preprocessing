{
  "nbformat": 4,
  "nbformat_minor": 0,
  "metadata": {
    "colab": {
      "name": "DataMiningSwathi.ipynb",
      "provenance": [],
      "collapsed_sections": [
        "6fhorRlm7ikY",
        "CCraTq0evLUv",
        "1S_A9TEidoXC",
        "lyUHgOvp_svt",
        "fbrNAq3TIV9d"
      ],
      "authorship_tag": "ABX9TyN2SnJNXoF2qQ2esm/rnIQz",
      "include_colab_link": true
    },
    "kernelspec": {
      "name": "python3",
      "display_name": "Python 3"
    },
    "language_info": {
      "name": "python"
    }
  },
  "cells": [
    {
      "cell_type": "markdown",
      "metadata": {
        "id": "view-in-github",
        "colab_type": "text"
      },
      "source": [
        "<a href=\"https://colab.research.google.com/github/Swathi04/data-mining-cmpe255-colab-preprocessing/blob/main/DataMiningSwathi.ipynb\" target=\"_parent\"><img src=\"https://colab.research.google.com/assets/colab-badge.svg\" alt=\"Open In Colab\"/></a>"
      ]
    },
    {
      "cell_type": "markdown",
      "metadata": {
        "id": "EHTM4TIt3U3N"
      },
      "source": [
        "#Data Mining Assignment 1\n",
        "Dataset with Airbnb prices in Berlin for analysis purpose to anyone planning to start an accomodation in the neighbourhood\n",
        "Dataset source: https://www.kaggle.com/brittabettendorf/berlin-airbnb-data?select=listings.csv"
      ]
    },
    {
      "cell_type": "markdown",
      "metadata": {
        "id": "6fhorRlm7ikY"
      },
      "source": [
        "\n",
        "\n",
        "##Necessary Imports:\n"
      ]
    },
    {
      "cell_type": "code",
      "metadata": {
        "id": "Ed7veAXg7mbO"
      },
      "source": [
        "import pandas as pd\n",
        "import matplotlib.pyplot as plt\n",
        "import seaborn as sns\n"
      ],
      "execution_count": 1,
      "outputs": []
    },
    {
      "cell_type": "markdown",
      "metadata": {
        "id": "CCraTq0evLUv"
      },
      "source": [
        "##Kaggle setup to load dataset"
      ]
    },
    {
      "cell_type": "code",
      "metadata": {
        "colab": {
          "base_uri": "https://localhost:8080/"
        },
        "id": "g7l6HukbwBW0",
        "outputId": "8e973662-e828-4ec3-d0a2-40a402b67d67"
      },
      "source": [
        "!rm -rf ~/.kaggle\n",
        "!ls"
      ],
      "execution_count": 2,
      "outputs": [
        {
          "output_type": "stream",
          "name": "stdout",
          "text": [
            "sample_data\n"
          ]
        }
      ]
    },
    {
      "cell_type": "code",
      "metadata": {
        "colab": {
          "resources": {
            "http://localhost:8080/nbextensions/google.colab/files.js": {
              "data": "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",
              "ok": true,
              "headers": [
                [
                  "content-type",
                  "application/javascript"
                ]
              ],
              "status": 200,
              "status_text": ""
            }
          },
          "base_uri": "https://localhost:8080/",
          "height": 281
        },
        "id": "iR3pqU_zvSuv",
        "outputId": "6ce01f74-2106-4f41-93c6-9a58b5856d6d"
      },
      "source": [
        "!pip install kaggle\n",
        "from google.colab import files\n",
        "files.upload()"
      ],
      "execution_count": 3,
      "outputs": [
        {
          "output_type": "stream",
          "name": "stdout",
          "text": [
            "Requirement already satisfied: kaggle in /usr/local/lib/python3.7/dist-packages (1.5.12)\n",
            "Requirement already satisfied: python-dateutil in /usr/local/lib/python3.7/dist-packages (from kaggle) (2.8.2)\n",
            "Requirement already satisfied: requests in /usr/local/lib/python3.7/dist-packages (from kaggle) (2.23.0)\n",
            "Requirement already satisfied: python-slugify in /usr/local/lib/python3.7/dist-packages (from kaggle) (5.0.2)\n",
            "Requirement already satisfied: tqdm in /usr/local/lib/python3.7/dist-packages (from kaggle) (4.62.3)\n",
            "Requirement already satisfied: certifi in /usr/local/lib/python3.7/dist-packages (from kaggle) (2021.5.30)\n",
            "Requirement already satisfied: urllib3 in /usr/local/lib/python3.7/dist-packages (from kaggle) (1.24.3)\n",
            "Requirement already satisfied: six>=1.10 in /usr/local/lib/python3.7/dist-packages (from kaggle) (1.15.0)\n",
            "Requirement already satisfied: text-unidecode>=1.3 in /usr/local/lib/python3.7/dist-packages (from python-slugify->kaggle) (1.3)\n",
            "Requirement already satisfied: chardet<4,>=3.0.2 in /usr/local/lib/python3.7/dist-packages (from requests->kaggle) (3.0.4)\n",
            "Requirement already satisfied: idna<3,>=2.5 in /usr/local/lib/python3.7/dist-packages (from requests->kaggle) (2.10)\n"
          ]
        },
        {
          "output_type": "display_data",
          "data": {
            "text/html": [
              "\n",
              "     <input type=\"file\" id=\"files-f14d8eda-ac34-4b03-a6fb-ed1f377c65e1\" name=\"files[]\" multiple disabled\n",
              "        style=\"border:none\" />\n",
              "     <output id=\"result-f14d8eda-ac34-4b03-a6fb-ed1f377c65e1\">\n",
              "      Upload widget is only available when the cell has been executed in the\n",
              "      current browser session. Please rerun this cell to enable.\n",
              "      </output>\n",
              "      <script src=\"/nbextensions/google.colab/files.js\"></script> "
            ],
            "text/plain": [
              "<IPython.core.display.HTML object>"
            ]
          },
          "metadata": {}
        },
        {
          "output_type": "stream",
          "name": "stdout",
          "text": [
            "Saving kaggle.json to kaggle.json\n"
          ]
        },
        {
          "output_type": "execute_result",
          "data": {
            "text/plain": [
              "{'kaggle.json': b'{\"username\":\"swathianandram\",\"key\":\"dae954eb4b7a44cc4b214d95b296b334\"}'}"
            ]
          },
          "metadata": {},
          "execution_count": 3
        }
      ]
    },
    {
      "cell_type": "code",
      "metadata": {
        "colab": {
          "base_uri": "https://localhost:8080/"
        },
        "id": "H7QUO_ZeiFLA",
        "outputId": "997a285e-d145-44b0-c201-a7833c200616"
      },
      "source": [
        "!ls"
      ],
      "execution_count": 4,
      "outputs": [
        {
          "output_type": "stream",
          "name": "stdout",
          "text": [
            "kaggle.json  sample_data\n"
          ]
        }
      ]
    },
    {
      "cell_type": "code",
      "metadata": {
        "id": "R085XX6KzA8l"
      },
      "source": [
        "!mkdir ~/.kaggle\n",
        "!cp kaggle.json ~/.kaggle/\n",
        "!chmod 600 ~/.kaggle/kaggle.json\n"
      ],
      "execution_count": 5,
      "outputs": []
    },
    {
      "cell_type": "code",
      "metadata": {
        "colab": {
          "base_uri": "https://localhost:8080/"
        },
        "id": "T1PKNDHhgkYr",
        "outputId": "9419f4d4-ddba-4c23-9816-90f6675df616"
      },
      "source": [
        "!kaggle datasets download brittabettendorf/berlin-airbnb-data"
      ],
      "execution_count": 6,
      "outputs": [
        {
          "output_type": "stream",
          "name": "stdout",
          "text": [
            "Downloading berlin-airbnb-data.zip to /content\n",
            " 97% 85.0M/87.7M [00:00<00:00, 114MB/s] \n",
            "100% 87.7M/87.7M [00:00<00:00, 112MB/s]\n"
          ]
        }
      ]
    },
    {
      "cell_type": "code",
      "metadata": {
        "colab": {
          "base_uri": "https://localhost:8080/"
        },
        "id": "Rz1_Gblqz3Bz",
        "outputId": "8e1d4db1-2c63-4d24-90a7-70dabf46da42"
      },
      "source": [
        "!ls\n",
        "!unzip berlin-airbnb-data.zip"
      ],
      "execution_count": 7,
      "outputs": [
        {
          "output_type": "stream",
          "name": "stdout",
          "text": [
            "berlin-airbnb-data.zip\tkaggle.json  sample_data\n",
            "Archive:  berlin-airbnb-data.zip\n",
            "  inflating: calendar_summary.csv    \n",
            "  inflating: listings.csv            \n",
            "  inflating: listings_summary.csv    \n",
            "  inflating: neighbourhoods.csv      \n",
            "  inflating: reviews.csv             \n",
            "  inflating: reviews_summary.csv     \n"
          ]
        }
      ]
    },
    {
      "cell_type": "markdown",
      "metadata": {
        "id": "1S_A9TEidoXC"
      },
      "source": [
        "##Load dataset"
      ]
    },
    {
      "cell_type": "code",
      "metadata": {
        "colab": {
          "base_uri": "https://localhost:8080/",
          "height": 707
        },
        "id": "o808iU1XdtDQ",
        "outputId": "4f782e77-109a-4b42-8b23-6ecaf35f85e4"
      },
      "source": [
        "data_frame = pd.read_csv('listings_summary.csv')\n",
        "data_frame.head()"
      ],
      "execution_count": 8,
      "outputs": [
        {
          "output_type": "execute_result",
          "data": {
            "text/html": [
              "<div>\n",
              "<style scoped>\n",
              "    .dataframe tbody tr th:only-of-type {\n",
              "        vertical-align: middle;\n",
              "    }\n",
              "\n",
              "    .dataframe tbody tr th {\n",
              "        vertical-align: top;\n",
              "    }\n",
              "\n",
              "    .dataframe thead th {\n",
              "        text-align: right;\n",
              "    }\n",
              "</style>\n",
              "<table border=\"1\" class=\"dataframe\">\n",
              "  <thead>\n",
              "    <tr style=\"text-align: right;\">\n",
              "      <th></th>\n",
              "      <th>id</th>\n",
              "      <th>listing_url</th>\n",
              "      <th>scrape_id</th>\n",
              "      <th>last_scraped</th>\n",
              "      <th>name</th>\n",
              "      <th>summary</th>\n",
              "      <th>space</th>\n",
              "      <th>description</th>\n",
              "      <th>experiences_offered</th>\n",
              "      <th>neighborhood_overview</th>\n",
              "      <th>notes</th>\n",
              "      <th>transit</th>\n",
              "      <th>access</th>\n",
              "      <th>interaction</th>\n",
              "      <th>house_rules</th>\n",
              "      <th>thumbnail_url</th>\n",
              "      <th>medium_url</th>\n",
              "      <th>picture_url</th>\n",
              "      <th>xl_picture_url</th>\n",
              "      <th>host_id</th>\n",
              "      <th>host_url</th>\n",
              "      <th>host_name</th>\n",
              "      <th>host_since</th>\n",
              "      <th>host_location</th>\n",
              "      <th>host_about</th>\n",
              "      <th>host_response_time</th>\n",
              "      <th>host_response_rate</th>\n",
              "      <th>host_acceptance_rate</th>\n",
              "      <th>host_is_superhost</th>\n",
              "      <th>host_thumbnail_url</th>\n",
              "      <th>host_picture_url</th>\n",
              "      <th>host_neighbourhood</th>\n",
              "      <th>host_listings_count</th>\n",
              "      <th>host_total_listings_count</th>\n",
              "      <th>host_verifications</th>\n",
              "      <th>host_has_profile_pic</th>\n",
              "      <th>host_identity_verified</th>\n",
              "      <th>street</th>\n",
              "      <th>neighbourhood</th>\n",
              "      <th>neighbourhood_cleansed</th>\n",
              "      <th>...</th>\n",
              "      <th>beds</th>\n",
              "      <th>bed_type</th>\n",
              "      <th>amenities</th>\n",
              "      <th>square_feet</th>\n",
              "      <th>price</th>\n",
              "      <th>weekly_price</th>\n",
              "      <th>monthly_price</th>\n",
              "      <th>security_deposit</th>\n",
              "      <th>cleaning_fee</th>\n",
              "      <th>guests_included</th>\n",
              "      <th>extra_people</th>\n",
              "      <th>minimum_nights</th>\n",
              "      <th>maximum_nights</th>\n",
              "      <th>calendar_updated</th>\n",
              "      <th>has_availability</th>\n",
              "      <th>availability_30</th>\n",
              "      <th>availability_60</th>\n",
              "      <th>availability_90</th>\n",
              "      <th>availability_365</th>\n",
              "      <th>calendar_last_scraped</th>\n",
              "      <th>number_of_reviews</th>\n",
              "      <th>first_review</th>\n",
              "      <th>last_review</th>\n",
              "      <th>review_scores_rating</th>\n",
              "      <th>review_scores_accuracy</th>\n",
              "      <th>review_scores_cleanliness</th>\n",
              "      <th>review_scores_checkin</th>\n",
              "      <th>review_scores_communication</th>\n",
              "      <th>review_scores_location</th>\n",
              "      <th>review_scores_value</th>\n",
              "      <th>requires_license</th>\n",
              "      <th>license</th>\n",
              "      <th>jurisdiction_names</th>\n",
              "      <th>instant_bookable</th>\n",
              "      <th>is_business_travel_ready</th>\n",
              "      <th>cancellation_policy</th>\n",
              "      <th>require_guest_profile_picture</th>\n",
              "      <th>require_guest_phone_verification</th>\n",
              "      <th>calculated_host_listings_count</th>\n",
              "      <th>reviews_per_month</th>\n",
              "    </tr>\n",
              "  </thead>\n",
              "  <tbody>\n",
              "    <tr>\n",
              "      <th>0</th>\n",
              "      <td>2015</td>\n",
              "      <td>https://www.airbnb.com/rooms/2015</td>\n",
              "      <td>20181107122246</td>\n",
              "      <td>2018-11-07</td>\n",
              "      <td>Berlin-Mitte Value! Quiet courtyard/very central</td>\n",
              "      <td>Great location!  30 of 75 sq meters. This wood...</td>\n",
              "      <td>A+++ location! This „Einliegerwohnung“ is an e...</td>\n",
              "      <td>Great location!  30 of 75 sq meters. This wood...</td>\n",
              "      <td>none</td>\n",
              "      <td>It is located in the former East Berlin area o...</td>\n",
              "      <td>This is my home, not a hotel. I rent out occas...</td>\n",
              "      <td>Close to U-Bahn U8 and U2 (metro), Trams M12, ...</td>\n",
              "      <td>Simple kitchen/cooking, refrigerator, microwav...</td>\n",
              "      <td>Always available</td>\n",
              "      <td>No parties No events No pets No smoking, not e...</td>\n",
              "      <td>NaN</td>\n",
              "      <td>NaN</td>\n",
              "      <td>https://a0.muscache.com/im/pictures/260fd609-7...</td>\n",
              "      <td>NaN</td>\n",
              "      <td>2217</td>\n",
              "      <td>https://www.airbnb.com/users/show/2217</td>\n",
              "      <td>Ian</td>\n",
              "      <td>2008-08-18</td>\n",
              "      <td>Key Biscayne, Florida, United States</td>\n",
              "      <td>Believe in sharing economy.</td>\n",
              "      <td>within an hour</td>\n",
              "      <td>96%</td>\n",
              "      <td>NaN</td>\n",
              "      <td>t</td>\n",
              "      <td>https://a0.muscache.com/im/pictures/21428a22-4...</td>\n",
              "      <td>https://a0.muscache.com/im/pictures/21428a22-4...</td>\n",
              "      <td>Mitte</td>\n",
              "      <td>4.0</td>\n",
              "      <td>4.0</td>\n",
              "      <td>['email', 'phone', 'reviews', 'jumio', 'offlin...</td>\n",
              "      <td>t</td>\n",
              "      <td>t</td>\n",
              "      <td>Berlin, Berlin, Germany</td>\n",
              "      <td>Mitte</td>\n",
              "      <td>Brunnenstr. Süd</td>\n",
              "      <td>...</td>\n",
              "      <td>2.0</td>\n",
              "      <td>Real Bed</td>\n",
              "      <td>{TV,\"Cable TV\",Wifi,Kitchen,Gym,Heating,\"Famil...</td>\n",
              "      <td>NaN</td>\n",
              "      <td>$60.00</td>\n",
              "      <td>NaN</td>\n",
              "      <td>NaN</td>\n",
              "      <td>$200.00</td>\n",
              "      <td>$30.00</td>\n",
              "      <td>1</td>\n",
              "      <td>$28.00</td>\n",
              "      <td>4</td>\n",
              "      <td>1125</td>\n",
              "      <td>3 months ago</td>\n",
              "      <td>t</td>\n",
              "      <td>0</td>\n",
              "      <td>21</td>\n",
              "      <td>51</td>\n",
              "      <td>141</td>\n",
              "      <td>2018-11-07</td>\n",
              "      <td>118</td>\n",
              "      <td>2016-04-11</td>\n",
              "      <td>2018-10-28</td>\n",
              "      <td>93.0</td>\n",
              "      <td>10.0</td>\n",
              "      <td>9.0</td>\n",
              "      <td>10.0</td>\n",
              "      <td>10.0</td>\n",
              "      <td>10.0</td>\n",
              "      <td>9.0</td>\n",
              "      <td>t</td>\n",
              "      <td>NaN</td>\n",
              "      <td>NaN</td>\n",
              "      <td>f</td>\n",
              "      <td>f</td>\n",
              "      <td>strict_14_with_grace_period</td>\n",
              "      <td>f</td>\n",
              "      <td>f</td>\n",
              "      <td>4</td>\n",
              "      <td>3.76</td>\n",
              "    </tr>\n",
              "    <tr>\n",
              "      <th>1</th>\n",
              "      <td>2695</td>\n",
              "      <td>https://www.airbnb.com/rooms/2695</td>\n",
              "      <td>20181107122246</td>\n",
              "      <td>2018-11-07</td>\n",
              "      <td>Prenzlauer Berg close to Mauerpark</td>\n",
              "      <td>NaN</td>\n",
              "      <td>In the summertime we are spending most of our ...</td>\n",
              "      <td>In the summertime we are spending most of our ...</td>\n",
              "      <td>none</td>\n",
              "      <td>NaN</td>\n",
              "      <td>NaN</td>\n",
              "      <td>Within walking distance you'll find the S-Bahn...</td>\n",
              "      <td>Außer deinem Zimmer kannst du noch die Küche u...</td>\n",
              "      <td>NaN</td>\n",
              "      <td>NaN</td>\n",
              "      <td>NaN</td>\n",
              "      <td>NaN</td>\n",
              "      <td>https://a0.muscache.com/im/pictures/97d4f6e8-1...</td>\n",
              "      <td>NaN</td>\n",
              "      <td>2986</td>\n",
              "      <td>https://www.airbnb.com/users/show/2986</td>\n",
              "      <td>Michael</td>\n",
              "      <td>2008-09-16</td>\n",
              "      <td>Berlin, Berlin, Germany</td>\n",
              "      <td>Living with my wife in Berlin.  Like travellin...</td>\n",
              "      <td>NaN</td>\n",
              "      <td>NaN</td>\n",
              "      <td>NaN</td>\n",
              "      <td>f</td>\n",
              "      <td>https://a0.muscache.com/im/pictures/50434955-1...</td>\n",
              "      <td>https://a0.muscache.com/im/pictures/50434955-1...</td>\n",
              "      <td>Prenzlauer Berg</td>\n",
              "      <td>1.0</td>\n",
              "      <td>1.0</td>\n",
              "      <td>['email', 'phone', 'reviews', 'jumio', 'govern...</td>\n",
              "      <td>t</td>\n",
              "      <td>t</td>\n",
              "      <td>Berlin, Berlin, Germany</td>\n",
              "      <td>NaN</td>\n",
              "      <td>Prenzlauer Berg Nordwest</td>\n",
              "      <td>...</td>\n",
              "      <td>1.0</td>\n",
              "      <td>Real Bed</td>\n",
              "      <td>{Wifi,Kitchen,Elevator,Heating,Washer,Essentia...</td>\n",
              "      <td>NaN</td>\n",
              "      <td>$17.00</td>\n",
              "      <td>NaN</td>\n",
              "      <td>NaN</td>\n",
              "      <td>$0.00</td>\n",
              "      <td>$0.00</td>\n",
              "      <td>1</td>\n",
              "      <td>$0.00</td>\n",
              "      <td>2</td>\n",
              "      <td>40</td>\n",
              "      <td>7 weeks ago</td>\n",
              "      <td>t</td>\n",
              "      <td>0</td>\n",
              "      <td>0</td>\n",
              "      <td>0</td>\n",
              "      <td>0</td>\n",
              "      <td>2018-11-07</td>\n",
              "      <td>6</td>\n",
              "      <td>2018-07-04</td>\n",
              "      <td>2018-10-01</td>\n",
              "      <td>100.0</td>\n",
              "      <td>10.0</td>\n",
              "      <td>10.0</td>\n",
              "      <td>10.0</td>\n",
              "      <td>10.0</td>\n",
              "      <td>10.0</td>\n",
              "      <td>10.0</td>\n",
              "      <td>t</td>\n",
              "      <td>NaN</td>\n",
              "      <td>NaN</td>\n",
              "      <td>f</td>\n",
              "      <td>f</td>\n",
              "      <td>flexible</td>\n",
              "      <td>f</td>\n",
              "      <td>f</td>\n",
              "      <td>1</td>\n",
              "      <td>1.42</td>\n",
              "    </tr>\n",
              "    <tr>\n",
              "      <th>2</th>\n",
              "      <td>3176</td>\n",
              "      <td>https://www.airbnb.com/rooms/3176</td>\n",
              "      <td>20181107122246</td>\n",
              "      <td>2018-11-07</td>\n",
              "      <td>Fabulous Flat in great Location</td>\n",
              "      <td>This beautiful first floor apartment  is situa...</td>\n",
              "      <td>1st floor (68m2) apartment on Kollwitzplatz/ P...</td>\n",
              "      <td>This beautiful first floor apartment  is situa...</td>\n",
              "      <td>none</td>\n",
              "      <td>The neighbourhood is famous for its variety of...</td>\n",
              "      <td>We welcome FAMILIES and cater especially for y...</td>\n",
              "      <td>We are 5 min walk  away from the tram M2, whic...</td>\n",
              "      <td>The apartment will be entirely yours. We are c...</td>\n",
              "      <td>Feel free to ask any questions prior to bookin...</td>\n",
              "      <td>It’s a non smoking flat, which likes to be tre...</td>\n",
              "      <td>NaN</td>\n",
              "      <td>NaN</td>\n",
              "      <td>https://a0.muscache.com/im/pictures/243355/84a...</td>\n",
              "      <td>NaN</td>\n",
              "      <td>3718</td>\n",
              "      <td>https://www.airbnb.com/users/show/3718</td>\n",
              "      <td>Britta</td>\n",
              "      <td>2008-10-19</td>\n",
              "      <td>Coledale, New South Wales, Australia</td>\n",
              "      <td>We love to travel ourselves a lot and prefer t...</td>\n",
              "      <td>within a day</td>\n",
              "      <td>100%</td>\n",
              "      <td>NaN</td>\n",
              "      <td>f</td>\n",
              "      <td>https://a0.muscache.com/im/users/3718/profile_...</td>\n",
              "      <td>https://a0.muscache.com/im/users/3718/profile_...</td>\n",
              "      <td>Prenzlauer Berg</td>\n",
              "      <td>1.0</td>\n",
              "      <td>1.0</td>\n",
              "      <td>['email', 'phone', 'facebook', 'reviews', 'man...</td>\n",
              "      <td>t</td>\n",
              "      <td>t</td>\n",
              "      <td>Berlin, Berlin, Germany</td>\n",
              "      <td>Prenzlauer Berg</td>\n",
              "      <td>Prenzlauer Berg Südwest</td>\n",
              "      <td>...</td>\n",
              "      <td>2.0</td>\n",
              "      <td>Real Bed</td>\n",
              "      <td>{Internet,Wifi,Kitchen,\"Buzzer/wireless interc...</td>\n",
              "      <td>720.0</td>\n",
              "      <td>$90.00</td>\n",
              "      <td>$520.00</td>\n",
              "      <td>$1,900.00</td>\n",
              "      <td>$200.00</td>\n",
              "      <td>$50.00</td>\n",
              "      <td>2</td>\n",
              "      <td>$20.00</td>\n",
              "      <td>62</td>\n",
              "      <td>1125</td>\n",
              "      <td>a week ago</td>\n",
              "      <td>t</td>\n",
              "      <td>0</td>\n",
              "      <td>0</td>\n",
              "      <td>0</td>\n",
              "      <td>220</td>\n",
              "      <td>2018-11-07</td>\n",
              "      <td>143</td>\n",
              "      <td>2009-06-20</td>\n",
              "      <td>2017-03-20</td>\n",
              "      <td>92.0</td>\n",
              "      <td>9.0</td>\n",
              "      <td>9.0</td>\n",
              "      <td>9.0</td>\n",
              "      <td>9.0</td>\n",
              "      <td>10.0</td>\n",
              "      <td>9.0</td>\n",
              "      <td>t</td>\n",
              "      <td>NaN</td>\n",
              "      <td>NaN</td>\n",
              "      <td>t</td>\n",
              "      <td>f</td>\n",
              "      <td>strict_14_with_grace_period</td>\n",
              "      <td>f</td>\n",
              "      <td>f</td>\n",
              "      <td>1</td>\n",
              "      <td>1.25</td>\n",
              "    </tr>\n",
              "    <tr>\n",
              "      <th>3</th>\n",
              "      <td>3309</td>\n",
              "      <td>https://www.airbnb.com/rooms/3309</td>\n",
              "      <td>20181107122246</td>\n",
              "      <td>2018-11-07</td>\n",
              "      <td>BerlinSpot Schöneberg near KaDeWe</td>\n",
              "      <td>First of all: I prefer short-notice bookings. ...</td>\n",
              "      <td>Your room is really big and has 26 sqm, is ver...</td>\n",
              "      <td>First of all: I prefer short-notice bookings. ...</td>\n",
              "      <td>none</td>\n",
              "      <td>My flat is in the middle of West-Berlin, direc...</td>\n",
              "      <td>The flat is a strictly non-smoking facility! A...</td>\n",
              "      <td>The public transportation is excellent: Severa...</td>\n",
              "      <td>I do have a strictly non-smoker-flat.  Keep th...</td>\n",
              "      <td>I'm working as a freelancing photographer. My ...</td>\n",
              "      <td>House-Rules and Information ..............(deu...</td>\n",
              "      <td>NaN</td>\n",
              "      <td>NaN</td>\n",
              "      <td>https://a0.muscache.com/im/pictures/29054294/b...</td>\n",
              "      <td>NaN</td>\n",
              "      <td>4108</td>\n",
              "      <td>https://www.airbnb.com/users/show/4108</td>\n",
              "      <td>Jana</td>\n",
              "      <td>2008-11-07</td>\n",
              "      <td>Berlin, Berlin, Germany</td>\n",
              "      <td>ENJOY EVERY DAY AS IF IT'S YOUR LAST!!! \\r\\n\\r...</td>\n",
              "      <td>NaN</td>\n",
              "      <td>NaN</td>\n",
              "      <td>NaN</td>\n",
              "      <td>f</td>\n",
              "      <td>https://a0.muscache.com/im/pictures/user/b5938...</td>\n",
              "      <td>https://a0.muscache.com/im/pictures/user/b5938...</td>\n",
              "      <td>Schöneberg</td>\n",
              "      <td>1.0</td>\n",
              "      <td>1.0</td>\n",
              "      <td>['email', 'phone', 'reviews', 'jumio', 'govern...</td>\n",
              "      <td>t</td>\n",
              "      <td>t</td>\n",
              "      <td>Berlin, Berlin, Germany</td>\n",
              "      <td>Schöneberg</td>\n",
              "      <td>Schöneberg-Nord</td>\n",
              "      <td>...</td>\n",
              "      <td>1.0</td>\n",
              "      <td>Pull-out Sofa</td>\n",
              "      <td>{Internet,Wifi,\"Pets allowed\",\"Pets live on th...</td>\n",
              "      <td>0.0</td>\n",
              "      <td>$26.00</td>\n",
              "      <td>$175.00</td>\n",
              "      <td>$599.00</td>\n",
              "      <td>$250.00</td>\n",
              "      <td>$30.00</td>\n",
              "      <td>1</td>\n",
              "      <td>$18.00</td>\n",
              "      <td>5</td>\n",
              "      <td>360</td>\n",
              "      <td>4 weeks ago</td>\n",
              "      <td>t</td>\n",
              "      <td>0</td>\n",
              "      <td>0</td>\n",
              "      <td>22</td>\n",
              "      <td>297</td>\n",
              "      <td>2018-11-07</td>\n",
              "      <td>25</td>\n",
              "      <td>2013-08-12</td>\n",
              "      <td>2018-08-16</td>\n",
              "      <td>88.0</td>\n",
              "      <td>9.0</td>\n",
              "      <td>9.0</td>\n",
              "      <td>9.0</td>\n",
              "      <td>10.0</td>\n",
              "      <td>9.0</td>\n",
              "      <td>9.0</td>\n",
              "      <td>t</td>\n",
              "      <td>NaN</td>\n",
              "      <td>NaN</td>\n",
              "      <td>f</td>\n",
              "      <td>f</td>\n",
              "      <td>strict_14_with_grace_period</td>\n",
              "      <td>f</td>\n",
              "      <td>f</td>\n",
              "      <td>1</td>\n",
              "      <td>0.39</td>\n",
              "    </tr>\n",
              "    <tr>\n",
              "      <th>4</th>\n",
              "      <td>7071</td>\n",
              "      <td>https://www.airbnb.com/rooms/7071</td>\n",
              "      <td>20181107122246</td>\n",
              "      <td>2018-11-07</td>\n",
              "      <td>BrightRoom with sunny greenview!</td>\n",
              "      <td>Cozy and large room in the beautiful district ...</td>\n",
              "      <td>The BrightRoom is an approx. 20 sqm (215ft²), ...</td>\n",
              "      <td>Cozy and large room in the beautiful district ...</td>\n",
              "      <td>none</td>\n",
              "      <td>Great neighborhood with plenty of Cafés, Baker...</td>\n",
              "      <td>I hope you enjoy your stay to the fullest! Ple...</td>\n",
              "      <td>Best access to other parts of the city via pub...</td>\n",
              "      <td>The guests have access to the bathroom, a smal...</td>\n",
              "      <td>I am glad if I can give you advice or help as ...</td>\n",
              "      <td>Please take good care of everything during you...</td>\n",
              "      <td>NaN</td>\n",
              "      <td>NaN</td>\n",
              "      <td>https://a0.muscache.com/im/pictures/21278/32a1...</td>\n",
              "      <td>NaN</td>\n",
              "      <td>17391</td>\n",
              "      <td>https://www.airbnb.com/users/show/17391</td>\n",
              "      <td>Bright</td>\n",
              "      <td>2009-05-16</td>\n",
              "      <td>Berlin, Berlin, Germany</td>\n",
              "      <td>I'm a creative person, adventurer, and travele...</td>\n",
              "      <td>within an hour</td>\n",
              "      <td>100%</td>\n",
              "      <td>NaN</td>\n",
              "      <td>t</td>\n",
              "      <td>https://a0.muscache.com/im/pictures/user/48c3d...</td>\n",
              "      <td>https://a0.muscache.com/im/pictures/user/48c3d...</td>\n",
              "      <td>Prenzlauer Berg</td>\n",
              "      <td>1.0</td>\n",
              "      <td>1.0</td>\n",
              "      <td>['email', 'phone', 'reviews', 'jumio', 'govern...</td>\n",
              "      <td>t</td>\n",
              "      <td>t</td>\n",
              "      <td>Berlin, Berlin, Germany</td>\n",
              "      <td>Prenzlauer Berg</td>\n",
              "      <td>Helmholtzplatz</td>\n",
              "      <td>...</td>\n",
              "      <td>2.0</td>\n",
              "      <td>Real Bed</td>\n",
              "      <td>{Wifi,Heating,\"Family/kid friendly\",Essentials...</td>\n",
              "      <td>NaN</td>\n",
              "      <td>$42.00</td>\n",
              "      <td>NaN</td>\n",
              "      <td>NaN</td>\n",
              "      <td>$0.00</td>\n",
              "      <td>$0.00</td>\n",
              "      <td>1</td>\n",
              "      <td>$24.00</td>\n",
              "      <td>2</td>\n",
              "      <td>10</td>\n",
              "      <td>3 days ago</td>\n",
              "      <td>t</td>\n",
              "      <td>15</td>\n",
              "      <td>26</td>\n",
              "      <td>26</td>\n",
              "      <td>26</td>\n",
              "      <td>2018-11-07</td>\n",
              "      <td>197</td>\n",
              "      <td>2009-08-18</td>\n",
              "      <td>2018-11-04</td>\n",
              "      <td>96.0</td>\n",
              "      <td>10.0</td>\n",
              "      <td>10.0</td>\n",
              "      <td>10.0</td>\n",
              "      <td>10.0</td>\n",
              "      <td>10.0</td>\n",
              "      <td>9.0</td>\n",
              "      <td>t</td>\n",
              "      <td>NaN</td>\n",
              "      <td>NaN</td>\n",
              "      <td>f</td>\n",
              "      <td>f</td>\n",
              "      <td>moderate</td>\n",
              "      <td>f</td>\n",
              "      <td>f</td>\n",
              "      <td>1</td>\n",
              "      <td>1.75</td>\n",
              "    </tr>\n",
              "  </tbody>\n",
              "</table>\n",
              "<p>5 rows × 96 columns</p>\n",
              "</div>"
            ],
            "text/plain": [
              "     id  ... reviews_per_month\n",
              "0  2015  ...              3.76\n",
              "1  2695  ...              1.42\n",
              "2  3176  ...              1.25\n",
              "3  3309  ...              0.39\n",
              "4  7071  ...              1.75\n",
              "\n",
              "[5 rows x 96 columns]"
            ]
          },
          "metadata": {},
          "execution_count": 8
        }
      ]
    },
    {
      "cell_type": "code",
      "metadata": {
        "colab": {
          "base_uri": "https://localhost:8080/"
        },
        "id": "JSxNQ8iNo23w",
        "outputId": "b6496c8d-2993-416d-d121-57853d8e0588"
      },
      "source": [
        "print('Number of entries in dataset: ', len(data_frame.axes[0]))\n",
        "print('Number of columns in dataset: ', len(data_frame.axes[1]))\n",
        "print('Duplicate row count: ', data_frame.duplicated().sum())\n",
        "data_frame.shape"
      ],
      "execution_count": 9,
      "outputs": [
        {
          "output_type": "stream",
          "name": "stdout",
          "text": [
            "Number of entries in dataset:  22552\n",
            "Number of columns in dataset:  96\n",
            "Duplicate row count:  0\n"
          ]
        },
        {
          "output_type": "execute_result",
          "data": {
            "text/plain": [
              "(22552, 96)"
            ]
          },
          "metadata": {},
          "execution_count": 9
        }
      ]
    },
    {
      "cell_type": "markdown",
      "metadata": {
        "id": "Di1UOyVXKvSd"
      },
      "source": [
        "##Preprocessing"
      ]
    },
    {
      "cell_type": "markdown",
      "metadata": {
        "id": "lyUHgOvp_svt"
      },
      "source": [
        "###Columns present in the dataset"
      ]
    },
    {
      "cell_type": "code",
      "metadata": {
        "colab": {
          "base_uri": "https://localhost:8080/"
        },
        "id": "_Z-lnMyU_0Gj",
        "outputId": "14cd003e-3823-48fc-e6cc-75a3bf634eac"
      },
      "source": [
        "sorted(data_frame)"
      ],
      "execution_count": 10,
      "outputs": [
        {
          "output_type": "execute_result",
          "data": {
            "text/plain": [
              "['access',\n",
              " 'accommodates',\n",
              " 'amenities',\n",
              " 'availability_30',\n",
              " 'availability_365',\n",
              " 'availability_60',\n",
              " 'availability_90',\n",
              " 'bathrooms',\n",
              " 'bed_type',\n",
              " 'bedrooms',\n",
              " 'beds',\n",
              " 'calculated_host_listings_count',\n",
              " 'calendar_last_scraped',\n",
              " 'calendar_updated',\n",
              " 'cancellation_policy',\n",
              " 'city',\n",
              " 'cleaning_fee',\n",
              " 'country',\n",
              " 'country_code',\n",
              " 'description',\n",
              " 'experiences_offered',\n",
              " 'extra_people',\n",
              " 'first_review',\n",
              " 'guests_included',\n",
              " 'has_availability',\n",
              " 'host_about',\n",
              " 'host_acceptance_rate',\n",
              " 'host_has_profile_pic',\n",
              " 'host_id',\n",
              " 'host_identity_verified',\n",
              " 'host_is_superhost',\n",
              " 'host_listings_count',\n",
              " 'host_location',\n",
              " 'host_name',\n",
              " 'host_neighbourhood',\n",
              " 'host_picture_url',\n",
              " 'host_response_rate',\n",
              " 'host_response_time',\n",
              " 'host_since',\n",
              " 'host_thumbnail_url',\n",
              " 'host_total_listings_count',\n",
              " 'host_url',\n",
              " 'host_verifications',\n",
              " 'house_rules',\n",
              " 'id',\n",
              " 'instant_bookable',\n",
              " 'interaction',\n",
              " 'is_business_travel_ready',\n",
              " 'is_location_exact',\n",
              " 'jurisdiction_names',\n",
              " 'last_review',\n",
              " 'last_scraped',\n",
              " 'latitude',\n",
              " 'license',\n",
              " 'listing_url',\n",
              " 'longitude',\n",
              " 'market',\n",
              " 'maximum_nights',\n",
              " 'medium_url',\n",
              " 'minimum_nights',\n",
              " 'monthly_price',\n",
              " 'name',\n",
              " 'neighborhood_overview',\n",
              " 'neighbourhood',\n",
              " 'neighbourhood_cleansed',\n",
              " 'neighbourhood_group_cleansed',\n",
              " 'notes',\n",
              " 'number_of_reviews',\n",
              " 'picture_url',\n",
              " 'price',\n",
              " 'property_type',\n",
              " 'require_guest_phone_verification',\n",
              " 'require_guest_profile_picture',\n",
              " 'requires_license',\n",
              " 'review_scores_accuracy',\n",
              " 'review_scores_checkin',\n",
              " 'review_scores_cleanliness',\n",
              " 'review_scores_communication',\n",
              " 'review_scores_location',\n",
              " 'review_scores_rating',\n",
              " 'review_scores_value',\n",
              " 'reviews_per_month',\n",
              " 'room_type',\n",
              " 'scrape_id',\n",
              " 'security_deposit',\n",
              " 'smart_location',\n",
              " 'space',\n",
              " 'square_feet',\n",
              " 'state',\n",
              " 'street',\n",
              " 'summary',\n",
              " 'thumbnail_url',\n",
              " 'transit',\n",
              " 'weekly_price',\n",
              " 'xl_picture_url',\n",
              " 'zipcode']"
            ]
          },
          "metadata": {},
          "execution_count": 10
        }
      ]
    },
    {
      "cell_type": "markdown",
      "metadata": {
        "id": "6eflM06_qKvM"
      },
      "source": [
        "###Selecting columns which are necessary for analysis"
      ]
    },
    {
      "cell_type": "code",
      "metadata": {
        "colab": {
          "base_uri": "https://localhost:8080/"
        },
        "id": "5-rYRd_Kwtju",
        "outputId": "e942124b-c8e1-4d9e-cf21-0f0859b47547"
      },
      "source": [
        "data_frame = data_frame[['id', 'listing_url', 'space', 'property_type', 'street', 'neighbourhood_cleansed', 'neighbourhood_group_cleansed', 'beds', 'bed_type', 'room_type', 'amenities', 'square_feet', 'price', 'security_deposit', 'cleaning_fee', 'guests_included', 'extra_people', 'minimum_nights', 'maximum_nights', 'number_of_reviews', 'host_is_superhost', 'summary']]\n",
        "data_frame.shape"
      ],
      "execution_count": 11,
      "outputs": [
        {
          "output_type": "execute_result",
          "data": {
            "text/plain": [
              "(22552, 22)"
            ]
          },
          "metadata": {},
          "execution_count": 11
        }
      ]
    },
    {
      "cell_type": "code",
      "metadata": {
        "colab": {
          "base_uri": "https://localhost:8080/",
          "height": 625
        },
        "id": "VsvEKn1-DkOS",
        "outputId": "ac524304-4793-4cb4-f4f9-4f08ce259157"
      },
      "source": [
        "data_frame.head()"
      ],
      "execution_count": 12,
      "outputs": [
        {
          "output_type": "execute_result",
          "data": {
            "text/html": [
              "<div>\n",
              "<style scoped>\n",
              "    .dataframe tbody tr th:only-of-type {\n",
              "        vertical-align: middle;\n",
              "    }\n",
              "\n",
              "    .dataframe tbody tr th {\n",
              "        vertical-align: top;\n",
              "    }\n",
              "\n",
              "    .dataframe thead th {\n",
              "        text-align: right;\n",
              "    }\n",
              "</style>\n",
              "<table border=\"1\" class=\"dataframe\">\n",
              "  <thead>\n",
              "    <tr style=\"text-align: right;\">\n",
              "      <th></th>\n",
              "      <th>id</th>\n",
              "      <th>listing_url</th>\n",
              "      <th>space</th>\n",
              "      <th>property_type</th>\n",
              "      <th>street</th>\n",
              "      <th>neighbourhood_cleansed</th>\n",
              "      <th>neighbourhood_group_cleansed</th>\n",
              "      <th>beds</th>\n",
              "      <th>bed_type</th>\n",
              "      <th>room_type</th>\n",
              "      <th>amenities</th>\n",
              "      <th>square_feet</th>\n",
              "      <th>price</th>\n",
              "      <th>security_deposit</th>\n",
              "      <th>cleaning_fee</th>\n",
              "      <th>guests_included</th>\n",
              "      <th>extra_people</th>\n",
              "      <th>minimum_nights</th>\n",
              "      <th>maximum_nights</th>\n",
              "      <th>number_of_reviews</th>\n",
              "      <th>host_is_superhost</th>\n",
              "      <th>summary</th>\n",
              "    </tr>\n",
              "  </thead>\n",
              "  <tbody>\n",
              "    <tr>\n",
              "      <th>0</th>\n",
              "      <td>2015</td>\n",
              "      <td>https://www.airbnb.com/rooms/2015</td>\n",
              "      <td>A+++ location! This „Einliegerwohnung“ is an e...</td>\n",
              "      <td>Guesthouse</td>\n",
              "      <td>Berlin, Berlin, Germany</td>\n",
              "      <td>Brunnenstr. Süd</td>\n",
              "      <td>Mitte</td>\n",
              "      <td>2.0</td>\n",
              "      <td>Real Bed</td>\n",
              "      <td>Entire home/apt</td>\n",
              "      <td>{TV,\"Cable TV\",Wifi,Kitchen,Gym,Heating,\"Famil...</td>\n",
              "      <td>NaN</td>\n",
              "      <td>$60.00</td>\n",
              "      <td>$200.00</td>\n",
              "      <td>$30.00</td>\n",
              "      <td>1</td>\n",
              "      <td>$28.00</td>\n",
              "      <td>4</td>\n",
              "      <td>1125</td>\n",
              "      <td>118</td>\n",
              "      <td>t</td>\n",
              "      <td>Great location!  30 of 75 sq meters. This wood...</td>\n",
              "    </tr>\n",
              "    <tr>\n",
              "      <th>1</th>\n",
              "      <td>2695</td>\n",
              "      <td>https://www.airbnb.com/rooms/2695</td>\n",
              "      <td>In the summertime we are spending most of our ...</td>\n",
              "      <td>Apartment</td>\n",
              "      <td>Berlin, Berlin, Germany</td>\n",
              "      <td>Prenzlauer Berg Nordwest</td>\n",
              "      <td>Pankow</td>\n",
              "      <td>1.0</td>\n",
              "      <td>Real Bed</td>\n",
              "      <td>Private room</td>\n",
              "      <td>{Wifi,Kitchen,Elevator,Heating,Washer,Essentia...</td>\n",
              "      <td>NaN</td>\n",
              "      <td>$17.00</td>\n",
              "      <td>$0.00</td>\n",
              "      <td>$0.00</td>\n",
              "      <td>1</td>\n",
              "      <td>$0.00</td>\n",
              "      <td>2</td>\n",
              "      <td>40</td>\n",
              "      <td>6</td>\n",
              "      <td>f</td>\n",
              "      <td>NaN</td>\n",
              "    </tr>\n",
              "    <tr>\n",
              "      <th>2</th>\n",
              "      <td>3176</td>\n",
              "      <td>https://www.airbnb.com/rooms/3176</td>\n",
              "      <td>1st floor (68m2) apartment on Kollwitzplatz/ P...</td>\n",
              "      <td>Apartment</td>\n",
              "      <td>Berlin, Berlin, Germany</td>\n",
              "      <td>Prenzlauer Berg Südwest</td>\n",
              "      <td>Pankow</td>\n",
              "      <td>2.0</td>\n",
              "      <td>Real Bed</td>\n",
              "      <td>Entire home/apt</td>\n",
              "      <td>{Internet,Wifi,Kitchen,\"Buzzer/wireless interc...</td>\n",
              "      <td>720.0</td>\n",
              "      <td>$90.00</td>\n",
              "      <td>$200.00</td>\n",
              "      <td>$50.00</td>\n",
              "      <td>2</td>\n",
              "      <td>$20.00</td>\n",
              "      <td>62</td>\n",
              "      <td>1125</td>\n",
              "      <td>143</td>\n",
              "      <td>f</td>\n",
              "      <td>This beautiful first floor apartment  is situa...</td>\n",
              "    </tr>\n",
              "    <tr>\n",
              "      <th>3</th>\n",
              "      <td>3309</td>\n",
              "      <td>https://www.airbnb.com/rooms/3309</td>\n",
              "      <td>Your room is really big and has 26 sqm, is ver...</td>\n",
              "      <td>Apartment</td>\n",
              "      <td>Berlin, Berlin, Germany</td>\n",
              "      <td>Schöneberg-Nord</td>\n",
              "      <td>Tempelhof - Schöneberg</td>\n",
              "      <td>1.0</td>\n",
              "      <td>Pull-out Sofa</td>\n",
              "      <td>Private room</td>\n",
              "      <td>{Internet,Wifi,\"Pets allowed\",\"Pets live on th...</td>\n",
              "      <td>0.0</td>\n",
              "      <td>$26.00</td>\n",
              "      <td>$250.00</td>\n",
              "      <td>$30.00</td>\n",
              "      <td>1</td>\n",
              "      <td>$18.00</td>\n",
              "      <td>5</td>\n",
              "      <td>360</td>\n",
              "      <td>25</td>\n",
              "      <td>f</td>\n",
              "      <td>First of all: I prefer short-notice bookings. ...</td>\n",
              "    </tr>\n",
              "    <tr>\n",
              "      <th>4</th>\n",
              "      <td>7071</td>\n",
              "      <td>https://www.airbnb.com/rooms/7071</td>\n",
              "      <td>The BrightRoom is an approx. 20 sqm (215ft²), ...</td>\n",
              "      <td>Apartment</td>\n",
              "      <td>Berlin, Berlin, Germany</td>\n",
              "      <td>Helmholtzplatz</td>\n",
              "      <td>Pankow</td>\n",
              "      <td>2.0</td>\n",
              "      <td>Real Bed</td>\n",
              "      <td>Private room</td>\n",
              "      <td>{Wifi,Heating,\"Family/kid friendly\",Essentials...</td>\n",
              "      <td>NaN</td>\n",
              "      <td>$42.00</td>\n",
              "      <td>$0.00</td>\n",
              "      <td>$0.00</td>\n",
              "      <td>1</td>\n",
              "      <td>$24.00</td>\n",
              "      <td>2</td>\n",
              "      <td>10</td>\n",
              "      <td>197</td>\n",
              "      <td>t</td>\n",
              "      <td>Cozy and large room in the beautiful district ...</td>\n",
              "    </tr>\n",
              "  </tbody>\n",
              "</table>\n",
              "</div>"
            ],
            "text/plain": [
              "     id  ...                                            summary\n",
              "0  2015  ...  Great location!  30 of 75 sq meters. This wood...\n",
              "1  2695  ...                                                NaN\n",
              "2  3176  ...  This beautiful first floor apartment  is situa...\n",
              "3  3309  ...  First of all: I prefer short-notice bookings. ...\n",
              "4  7071  ...  Cozy and large room in the beautiful district ...\n",
              "\n",
              "[5 rows x 22 columns]"
            ]
          },
          "metadata": {},
          "execution_count": 12
        }
      ]
    },
    {
      "cell_type": "markdown",
      "metadata": {
        "id": "loh4QCRv2y7Z"
      },
      "source": [
        "###Property type Analysis"
      ]
    },
    {
      "cell_type": "code",
      "metadata": {
        "colab": {
          "base_uri": "https://localhost:8080/"
        },
        "id": "6Xyds57O28tB",
        "outputId": "1c5f7cde-8bbf-4642-d225-dec46135c4fe"
      },
      "source": [
        "print('The property type of Airbnb which is the most popular in Berlin is: ', data_frame['property_type'].value_counts().idxmax())\n",
        "print('\\n\\nThe types of properties present in the Berlin:\\n', data_frame['property_type'].value_counts())"
      ],
      "execution_count": 13,
      "outputs": [
        {
          "output_type": "stream",
          "name": "stdout",
          "text": [
            "The property type of Airbnb which is the most popular in Berlin is:  Apartment\n",
            "\n",
            "\n",
            "The types of properties present in the Berlin:\n",
            " Apartment                 20225\n",
            "Condominium                 612\n",
            "Loft                        460\n",
            "House                       398\n",
            "Serviced apartment          175\n",
            "Hostel                      128\n",
            "Townhouse                    99\n",
            "Guest suite                  74\n",
            "Bed and breakfast            64\n",
            "Guesthouse                   57\n",
            "Hotel                        50\n",
            "Other                        47\n",
            "Boutique hotel               43\n",
            "Bungalow                     20\n",
            "Boat                         17\n",
            "Tiny house                   12\n",
            "Houseboat                    11\n",
            "Camper/RV                    11\n",
            "Villa                        10\n",
            "Pension (South Korea)         7\n",
            "Aparthotel                    7\n",
            "Cabin                         6\n",
            "Cottage                       4\n",
            "Resort                        3\n",
            "Train                         2\n",
            "Casa particular (Cuba)        2\n",
            "Castle                        2\n",
            "Cave                          1\n",
            "Tipi                          1\n",
            "In-law                        1\n",
            "Island                        1\n",
            "Chalet                        1\n",
            "Barn                          1\n",
            "Name: property_type, dtype: int64\n"
          ]
        }
      ]
    },
    {
      "cell_type": "markdown",
      "metadata": {
        "id": "dWIWVZFcFBHa"
      },
      "source": [
        "###Removing entries with number of properties for a particular property type less than 10"
      ]
    },
    {
      "cell_type": "code",
      "metadata": {
        "colab": {
          "base_uri": "https://localhost:8080/"
        },
        "id": "6h-jAMf0EmFt",
        "outputId": "8b6383e9-a522-4cd3-fea1-d6b141cb0920"
      },
      "source": [
        "data_frame = data_frame.groupby('property_type').filter(lambda x: len(x) >= 10)\n",
        "print('Properties which are more frequent after removal of non frequent properties:\\n', data_frame['property_type'].value_counts())\n",
        "data_frame.shape"
      ],
      "execution_count": 14,
      "outputs": [
        {
          "output_type": "stream",
          "name": "stdout",
          "text": [
            "Properties which are more frequent after removal of non frequent properties:\n",
            " Apartment             20225\n",
            "Condominium             612\n",
            "Loft                    460\n",
            "House                   398\n",
            "Serviced apartment      175\n",
            "Hostel                  128\n",
            "Townhouse                99\n",
            "Guest suite              74\n",
            "Bed and breakfast        64\n",
            "Guesthouse               57\n",
            "Hotel                    50\n",
            "Other                    47\n",
            "Boutique hotel           43\n",
            "Bungalow                 20\n",
            "Boat                     17\n",
            "Tiny house               12\n",
            "Camper/RV                11\n",
            "Houseboat                11\n",
            "Villa                    10\n",
            "Name: property_type, dtype: int64\n"
          ]
        },
        {
          "output_type": "execute_result",
          "data": {
            "text/plain": [
              "(22513, 22)"
            ]
          },
          "metadata": {},
          "execution_count": 14
        }
      ]
    },
    {
      "cell_type": "code",
      "metadata": {
        "colab": {
          "base_uri": "https://localhost:8080/",
          "height": 625
        },
        "id": "jheALSQ6Dpn0",
        "outputId": "2dc0dba1-2e04-4af1-c469-c0ed5ac1daf4"
      },
      "source": [
        "data_frame.head()"
      ],
      "execution_count": 15,
      "outputs": [
        {
          "output_type": "execute_result",
          "data": {
            "text/html": [
              "<div>\n",
              "<style scoped>\n",
              "    .dataframe tbody tr th:only-of-type {\n",
              "        vertical-align: middle;\n",
              "    }\n",
              "\n",
              "    .dataframe tbody tr th {\n",
              "        vertical-align: top;\n",
              "    }\n",
              "\n",
              "    .dataframe thead th {\n",
              "        text-align: right;\n",
              "    }\n",
              "</style>\n",
              "<table border=\"1\" class=\"dataframe\">\n",
              "  <thead>\n",
              "    <tr style=\"text-align: right;\">\n",
              "      <th></th>\n",
              "      <th>id</th>\n",
              "      <th>listing_url</th>\n",
              "      <th>space</th>\n",
              "      <th>property_type</th>\n",
              "      <th>street</th>\n",
              "      <th>neighbourhood_cleansed</th>\n",
              "      <th>neighbourhood_group_cleansed</th>\n",
              "      <th>beds</th>\n",
              "      <th>bed_type</th>\n",
              "      <th>room_type</th>\n",
              "      <th>amenities</th>\n",
              "      <th>square_feet</th>\n",
              "      <th>price</th>\n",
              "      <th>security_deposit</th>\n",
              "      <th>cleaning_fee</th>\n",
              "      <th>guests_included</th>\n",
              "      <th>extra_people</th>\n",
              "      <th>minimum_nights</th>\n",
              "      <th>maximum_nights</th>\n",
              "      <th>number_of_reviews</th>\n",
              "      <th>host_is_superhost</th>\n",
              "      <th>summary</th>\n",
              "    </tr>\n",
              "  </thead>\n",
              "  <tbody>\n",
              "    <tr>\n",
              "      <th>0</th>\n",
              "      <td>2015</td>\n",
              "      <td>https://www.airbnb.com/rooms/2015</td>\n",
              "      <td>A+++ location! This „Einliegerwohnung“ is an e...</td>\n",
              "      <td>Guesthouse</td>\n",
              "      <td>Berlin, Berlin, Germany</td>\n",
              "      <td>Brunnenstr. Süd</td>\n",
              "      <td>Mitte</td>\n",
              "      <td>2.0</td>\n",
              "      <td>Real Bed</td>\n",
              "      <td>Entire home/apt</td>\n",
              "      <td>{TV,\"Cable TV\",Wifi,Kitchen,Gym,Heating,\"Famil...</td>\n",
              "      <td>NaN</td>\n",
              "      <td>$60.00</td>\n",
              "      <td>$200.00</td>\n",
              "      <td>$30.00</td>\n",
              "      <td>1</td>\n",
              "      <td>$28.00</td>\n",
              "      <td>4</td>\n",
              "      <td>1125</td>\n",
              "      <td>118</td>\n",
              "      <td>t</td>\n",
              "      <td>Great location!  30 of 75 sq meters. This wood...</td>\n",
              "    </tr>\n",
              "    <tr>\n",
              "      <th>1</th>\n",
              "      <td>2695</td>\n",
              "      <td>https://www.airbnb.com/rooms/2695</td>\n",
              "      <td>In the summertime we are spending most of our ...</td>\n",
              "      <td>Apartment</td>\n",
              "      <td>Berlin, Berlin, Germany</td>\n",
              "      <td>Prenzlauer Berg Nordwest</td>\n",
              "      <td>Pankow</td>\n",
              "      <td>1.0</td>\n",
              "      <td>Real Bed</td>\n",
              "      <td>Private room</td>\n",
              "      <td>{Wifi,Kitchen,Elevator,Heating,Washer,Essentia...</td>\n",
              "      <td>NaN</td>\n",
              "      <td>$17.00</td>\n",
              "      <td>$0.00</td>\n",
              "      <td>$0.00</td>\n",
              "      <td>1</td>\n",
              "      <td>$0.00</td>\n",
              "      <td>2</td>\n",
              "      <td>40</td>\n",
              "      <td>6</td>\n",
              "      <td>f</td>\n",
              "      <td>NaN</td>\n",
              "    </tr>\n",
              "    <tr>\n",
              "      <th>2</th>\n",
              "      <td>3176</td>\n",
              "      <td>https://www.airbnb.com/rooms/3176</td>\n",
              "      <td>1st floor (68m2) apartment on Kollwitzplatz/ P...</td>\n",
              "      <td>Apartment</td>\n",
              "      <td>Berlin, Berlin, Germany</td>\n",
              "      <td>Prenzlauer Berg Südwest</td>\n",
              "      <td>Pankow</td>\n",
              "      <td>2.0</td>\n",
              "      <td>Real Bed</td>\n",
              "      <td>Entire home/apt</td>\n",
              "      <td>{Internet,Wifi,Kitchen,\"Buzzer/wireless interc...</td>\n",
              "      <td>720.0</td>\n",
              "      <td>$90.00</td>\n",
              "      <td>$200.00</td>\n",
              "      <td>$50.00</td>\n",
              "      <td>2</td>\n",
              "      <td>$20.00</td>\n",
              "      <td>62</td>\n",
              "      <td>1125</td>\n",
              "      <td>143</td>\n",
              "      <td>f</td>\n",
              "      <td>This beautiful first floor apartment  is situa...</td>\n",
              "    </tr>\n",
              "    <tr>\n",
              "      <th>3</th>\n",
              "      <td>3309</td>\n",
              "      <td>https://www.airbnb.com/rooms/3309</td>\n",
              "      <td>Your room is really big and has 26 sqm, is ver...</td>\n",
              "      <td>Apartment</td>\n",
              "      <td>Berlin, Berlin, Germany</td>\n",
              "      <td>Schöneberg-Nord</td>\n",
              "      <td>Tempelhof - Schöneberg</td>\n",
              "      <td>1.0</td>\n",
              "      <td>Pull-out Sofa</td>\n",
              "      <td>Private room</td>\n",
              "      <td>{Internet,Wifi,\"Pets allowed\",\"Pets live on th...</td>\n",
              "      <td>0.0</td>\n",
              "      <td>$26.00</td>\n",
              "      <td>$250.00</td>\n",
              "      <td>$30.00</td>\n",
              "      <td>1</td>\n",
              "      <td>$18.00</td>\n",
              "      <td>5</td>\n",
              "      <td>360</td>\n",
              "      <td>25</td>\n",
              "      <td>f</td>\n",
              "      <td>First of all: I prefer short-notice bookings. ...</td>\n",
              "    </tr>\n",
              "    <tr>\n",
              "      <th>4</th>\n",
              "      <td>7071</td>\n",
              "      <td>https://www.airbnb.com/rooms/7071</td>\n",
              "      <td>The BrightRoom is an approx. 20 sqm (215ft²), ...</td>\n",
              "      <td>Apartment</td>\n",
              "      <td>Berlin, Berlin, Germany</td>\n",
              "      <td>Helmholtzplatz</td>\n",
              "      <td>Pankow</td>\n",
              "      <td>2.0</td>\n",
              "      <td>Real Bed</td>\n",
              "      <td>Private room</td>\n",
              "      <td>{Wifi,Heating,\"Family/kid friendly\",Essentials...</td>\n",
              "      <td>NaN</td>\n",
              "      <td>$42.00</td>\n",
              "      <td>$0.00</td>\n",
              "      <td>$0.00</td>\n",
              "      <td>1</td>\n",
              "      <td>$24.00</td>\n",
              "      <td>2</td>\n",
              "      <td>10</td>\n",
              "      <td>197</td>\n",
              "      <td>t</td>\n",
              "      <td>Cozy and large room in the beautiful district ...</td>\n",
              "    </tr>\n",
              "  </tbody>\n",
              "</table>\n",
              "</div>"
            ],
            "text/plain": [
              "     id  ...                                            summary\n",
              "0  2015  ...  Great location!  30 of 75 sq meters. This wood...\n",
              "1  2695  ...                                                NaN\n",
              "2  3176  ...  This beautiful first floor apartment  is situa...\n",
              "3  3309  ...  First of all: I prefer short-notice bookings. ...\n",
              "4  7071  ...  Cozy and large room in the beautiful district ...\n",
              "\n",
              "[5 rows x 22 columns]"
            ]
          },
          "metadata": {},
          "execution_count": 15
        }
      ]
    },
    {
      "cell_type": "markdown",
      "metadata": {
        "id": "fbrNAq3TIV9d"
      },
      "source": [
        "###Renaming columns\n"
      ]
    },
    {
      "cell_type": "code",
      "metadata": {
        "colab": {
          "base_uri": "https://localhost:8080/",
          "height": 0
        },
        "id": "BvLdw4ouIaLn",
        "outputId": "92be3b63-b3ea-4120-b09f-1790ba178aa0"
      },
      "source": [
        "dict = {'neighbourhood_cleansed': 'neighbourhood',\n",
        "        'neighbourhood_group_cleansed': 'neighbourhood_group'}\n",
        "  \n",
        "data_frame.rename(columns=dict,\n",
        "          inplace=True)\n",
        "display(data_frame)"
      ],
      "execution_count": 16,
      "outputs": [
        {
          "output_type": "display_data",
          "data": {
            "text/html": [
              "<div>\n",
              "<style scoped>\n",
              "    .dataframe tbody tr th:only-of-type {\n",
              "        vertical-align: middle;\n",
              "    }\n",
              "\n",
              "    .dataframe tbody tr th {\n",
              "        vertical-align: top;\n",
              "    }\n",
              "\n",
              "    .dataframe thead th {\n",
              "        text-align: right;\n",
              "    }\n",
              "</style>\n",
              "<table border=\"1\" class=\"dataframe\">\n",
              "  <thead>\n",
              "    <tr style=\"text-align: right;\">\n",
              "      <th></th>\n",
              "      <th>id</th>\n",
              "      <th>listing_url</th>\n",
              "      <th>space</th>\n",
              "      <th>property_type</th>\n",
              "      <th>street</th>\n",
              "      <th>neighbourhood</th>\n",
              "      <th>neighbourhood_group</th>\n",
              "      <th>beds</th>\n",
              "      <th>bed_type</th>\n",
              "      <th>room_type</th>\n",
              "      <th>amenities</th>\n",
              "      <th>square_feet</th>\n",
              "      <th>price</th>\n",
              "      <th>security_deposit</th>\n",
              "      <th>cleaning_fee</th>\n",
              "      <th>guests_included</th>\n",
              "      <th>extra_people</th>\n",
              "      <th>minimum_nights</th>\n",
              "      <th>maximum_nights</th>\n",
              "      <th>number_of_reviews</th>\n",
              "      <th>host_is_superhost</th>\n",
              "      <th>summary</th>\n",
              "    </tr>\n",
              "  </thead>\n",
              "  <tbody>\n",
              "    <tr>\n",
              "      <th>0</th>\n",
              "      <td>2015</td>\n",
              "      <td>https://www.airbnb.com/rooms/2015</td>\n",
              "      <td>A+++ location! This „Einliegerwohnung“ is an e...</td>\n",
              "      <td>Guesthouse</td>\n",
              "      <td>Berlin, Berlin, Germany</td>\n",
              "      <td>Brunnenstr. Süd</td>\n",
              "      <td>Mitte</td>\n",
              "      <td>2.0</td>\n",
              "      <td>Real Bed</td>\n",
              "      <td>Entire home/apt</td>\n",
              "      <td>{TV,\"Cable TV\",Wifi,Kitchen,Gym,Heating,\"Famil...</td>\n",
              "      <td>NaN</td>\n",
              "      <td>$60.00</td>\n",
              "      <td>$200.00</td>\n",
              "      <td>$30.00</td>\n",
              "      <td>1</td>\n",
              "      <td>$28.00</td>\n",
              "      <td>4</td>\n",
              "      <td>1125</td>\n",
              "      <td>118</td>\n",
              "      <td>t</td>\n",
              "      <td>Great location!  30 of 75 sq meters. This wood...</td>\n",
              "    </tr>\n",
              "    <tr>\n",
              "      <th>1</th>\n",
              "      <td>2695</td>\n",
              "      <td>https://www.airbnb.com/rooms/2695</td>\n",
              "      <td>In the summertime we are spending most of our ...</td>\n",
              "      <td>Apartment</td>\n",
              "      <td>Berlin, Berlin, Germany</td>\n",
              "      <td>Prenzlauer Berg Nordwest</td>\n",
              "      <td>Pankow</td>\n",
              "      <td>1.0</td>\n",
              "      <td>Real Bed</td>\n",
              "      <td>Private room</td>\n",
              "      <td>{Wifi,Kitchen,Elevator,Heating,Washer,Essentia...</td>\n",
              "      <td>NaN</td>\n",
              "      <td>$17.00</td>\n",
              "      <td>$0.00</td>\n",
              "      <td>$0.00</td>\n",
              "      <td>1</td>\n",
              "      <td>$0.00</td>\n",
              "      <td>2</td>\n",
              "      <td>40</td>\n",
              "      <td>6</td>\n",
              "      <td>f</td>\n",
              "      <td>NaN</td>\n",
              "    </tr>\n",
              "    <tr>\n",
              "      <th>2</th>\n",
              "      <td>3176</td>\n",
              "      <td>https://www.airbnb.com/rooms/3176</td>\n",
              "      <td>1st floor (68m2) apartment on Kollwitzplatz/ P...</td>\n",
              "      <td>Apartment</td>\n",
              "      <td>Berlin, Berlin, Germany</td>\n",
              "      <td>Prenzlauer Berg Südwest</td>\n",
              "      <td>Pankow</td>\n",
              "      <td>2.0</td>\n",
              "      <td>Real Bed</td>\n",
              "      <td>Entire home/apt</td>\n",
              "      <td>{Internet,Wifi,Kitchen,\"Buzzer/wireless interc...</td>\n",
              "      <td>720.0</td>\n",
              "      <td>$90.00</td>\n",
              "      <td>$200.00</td>\n",
              "      <td>$50.00</td>\n",
              "      <td>2</td>\n",
              "      <td>$20.00</td>\n",
              "      <td>62</td>\n",
              "      <td>1125</td>\n",
              "      <td>143</td>\n",
              "      <td>f</td>\n",
              "      <td>This beautiful first floor apartment  is situa...</td>\n",
              "    </tr>\n",
              "    <tr>\n",
              "      <th>3</th>\n",
              "      <td>3309</td>\n",
              "      <td>https://www.airbnb.com/rooms/3309</td>\n",
              "      <td>Your room is really big and has 26 sqm, is ver...</td>\n",
              "      <td>Apartment</td>\n",
              "      <td>Berlin, Berlin, Germany</td>\n",
              "      <td>Schöneberg-Nord</td>\n",
              "      <td>Tempelhof - Schöneberg</td>\n",
              "      <td>1.0</td>\n",
              "      <td>Pull-out Sofa</td>\n",
              "      <td>Private room</td>\n",
              "      <td>{Internet,Wifi,\"Pets allowed\",\"Pets live on th...</td>\n",
              "      <td>0.0</td>\n",
              "      <td>$26.00</td>\n",
              "      <td>$250.00</td>\n",
              "      <td>$30.00</td>\n",
              "      <td>1</td>\n",
              "      <td>$18.00</td>\n",
              "      <td>5</td>\n",
              "      <td>360</td>\n",
              "      <td>25</td>\n",
              "      <td>f</td>\n",
              "      <td>First of all: I prefer short-notice bookings. ...</td>\n",
              "    </tr>\n",
              "    <tr>\n",
              "      <th>4</th>\n",
              "      <td>7071</td>\n",
              "      <td>https://www.airbnb.com/rooms/7071</td>\n",
              "      <td>The BrightRoom is an approx. 20 sqm (215ft²), ...</td>\n",
              "      <td>Apartment</td>\n",
              "      <td>Berlin, Berlin, Germany</td>\n",
              "      <td>Helmholtzplatz</td>\n",
              "      <td>Pankow</td>\n",
              "      <td>2.0</td>\n",
              "      <td>Real Bed</td>\n",
              "      <td>Private room</td>\n",
              "      <td>{Wifi,Heating,\"Family/kid friendly\",Essentials...</td>\n",
              "      <td>NaN</td>\n",
              "      <td>$42.00</td>\n",
              "      <td>$0.00</td>\n",
              "      <td>$0.00</td>\n",
              "      <td>1</td>\n",
              "      <td>$24.00</td>\n",
              "      <td>2</td>\n",
              "      <td>10</td>\n",
              "      <td>197</td>\n",
              "      <td>t</td>\n",
              "      <td>Cozy and large room in the beautiful district ...</td>\n",
              "    </tr>\n",
              "    <tr>\n",
              "      <th>...</th>\n",
              "      <td>...</td>\n",
              "      <td>...</td>\n",
              "      <td>...</td>\n",
              "      <td>...</td>\n",
              "      <td>...</td>\n",
              "      <td>...</td>\n",
              "      <td>...</td>\n",
              "      <td>...</td>\n",
              "      <td>...</td>\n",
              "      <td>...</td>\n",
              "      <td>...</td>\n",
              "      <td>...</td>\n",
              "      <td>...</td>\n",
              "      <td>...</td>\n",
              "      <td>...</td>\n",
              "      <td>...</td>\n",
              "      <td>...</td>\n",
              "      <td>...</td>\n",
              "      <td>...</td>\n",
              "      <td>...</td>\n",
              "      <td>...</td>\n",
              "      <td>...</td>\n",
              "    </tr>\n",
              "    <tr>\n",
              "      <th>22547</th>\n",
              "      <td>29856708</td>\n",
              "      <td>https://www.airbnb.com/rooms/29856708</td>\n",
              "      <td>NaN</td>\n",
              "      <td>Apartment</td>\n",
              "      <td>Berlin, Berlin, Germany</td>\n",
              "      <td>Brunnenstr. Süd</td>\n",
              "      <td>Mitte</td>\n",
              "      <td>1.0</td>\n",
              "      <td>Real Bed</td>\n",
              "      <td>Entire home/apt</td>\n",
              "      <td>{Wifi,\"Smoking allowed\",Heating,Essentials,Sha...</td>\n",
              "      <td>NaN</td>\n",
              "      <td>$60.00</td>\n",
              "      <td>NaN</td>\n",
              "      <td>NaN</td>\n",
              "      <td>1</td>\n",
              "      <td>$0.00</td>\n",
              "      <td>2</td>\n",
              "      <td>1125</td>\n",
              "      <td>0</td>\n",
              "      <td>f</td>\n",
              "      <td>Charming apartment right in the center of Berl...</td>\n",
              "    </tr>\n",
              "    <tr>\n",
              "      <th>22548</th>\n",
              "      <td>29857108</td>\n",
              "      <td>https://www.airbnb.com/rooms/29857108</td>\n",
              "      <td>Die Übernachtungsmöglichkeit ist offen im Wohn...</td>\n",
              "      <td>Apartment</td>\n",
              "      <td>Berlin, Berlin, Germany</td>\n",
              "      <td>Schöneberg-Nord</td>\n",
              "      <td>Tempelhof - Schöneberg</td>\n",
              "      <td>4.0</td>\n",
              "      <td>Real Bed</td>\n",
              "      <td>Shared room</td>\n",
              "      <td>{TV,Wifi,Kitchen,\"Free parking on premises\",\"F...</td>\n",
              "      <td>NaN</td>\n",
              "      <td>$20.00</td>\n",
              "      <td>$0.00</td>\n",
              "      <td>$0.00</td>\n",
              "      <td>1</td>\n",
              "      <td>$10.00</td>\n",
              "      <td>1</td>\n",
              "      <td>14</td>\n",
              "      <td>0</td>\n",
              "      <td>f</td>\n",
              "      <td>Die Wohnung liegt in unmittelbarer Nähe zum Vi...</td>\n",
              "    </tr>\n",
              "    <tr>\n",
              "      <th>22549</th>\n",
              "      <td>29864272</td>\n",
              "      <td>https://www.airbnb.com/rooms/29864272</td>\n",
              "      <td>NaN</td>\n",
              "      <td>Loft</td>\n",
              "      <td>Berlin, Berlin, Germany</td>\n",
              "      <td>Prenzlauer Berg Südwest</td>\n",
              "      <td>Pankow</td>\n",
              "      <td>1.0</td>\n",
              "      <td>Real Bed</td>\n",
              "      <td>Entire home/apt</td>\n",
              "      <td>{Wifi,Kitchen,Heating,Washer,\"Fire extinguishe...</td>\n",
              "      <td>NaN</td>\n",
              "      <td>$85.00</td>\n",
              "      <td>NaN</td>\n",
              "      <td>NaN</td>\n",
              "      <td>1</td>\n",
              "      <td>$0.00</td>\n",
              "      <td>3</td>\n",
              "      <td>30</td>\n",
              "      <td>0</td>\n",
              "      <td>f</td>\n",
              "      <td>Prenzlauer Berg is one of the most creative di...</td>\n",
              "    </tr>\n",
              "    <tr>\n",
              "      <th>22550</th>\n",
              "      <td>29866805</td>\n",
              "      <td>https://www.airbnb.com/rooms/29866805</td>\n",
              "      <td>Nearby you will find the Brandenburg Gate, Rei...</td>\n",
              "      <td>Boutique hotel</td>\n",
              "      <td>Berlin, Berlin, Germany</td>\n",
              "      <td>Alexanderplatz</td>\n",
              "      <td>Mitte</td>\n",
              "      <td>1.0</td>\n",
              "      <td>Real Bed</td>\n",
              "      <td>Private room</td>\n",
              "      <td>{Wifi,\"Paid parking off premises\",Doorman,Elev...</td>\n",
              "      <td>NaN</td>\n",
              "      <td>$99.00</td>\n",
              "      <td>NaN</td>\n",
              "      <td>NaN</td>\n",
              "      <td>1</td>\n",
              "      <td>$0.00</td>\n",
              "      <td>1</td>\n",
              "      <td>10</td>\n",
              "      <td>0</td>\n",
              "      <td>f</td>\n",
              "      <td>The double rooms with private shower / WC are ...</td>\n",
              "    </tr>\n",
              "    <tr>\n",
              "      <th>22551</th>\n",
              "      <td>29867352</td>\n",
              "      <td>https://www.airbnb.com/rooms/29867352</td>\n",
              "      <td>NaN</td>\n",
              "      <td>Apartment</td>\n",
              "      <td>Berlin, Berlin, Germany</td>\n",
              "      <td>Schillerpromenade</td>\n",
              "      <td>Neukölln</td>\n",
              "      <td>1.0</td>\n",
              "      <td>Real Bed</td>\n",
              "      <td>Private room</td>\n",
              "      <td>{Wifi,\"Air conditioning\",Kitchen,Breakfast,Hea...</td>\n",
              "      <td>NaN</td>\n",
              "      <td>$45.00</td>\n",
              "      <td>NaN</td>\n",
              "      <td>NaN</td>\n",
              "      <td>1</td>\n",
              "      <td>$0.00</td>\n",
              "      <td>5</td>\n",
              "      <td>14</td>\n",
              "      <td>0</td>\n",
              "      <td>f</td>\n",
              "      <td>Sunny, modern and cozy 3-bedroom shared flat i...</td>\n",
              "    </tr>\n",
              "  </tbody>\n",
              "</table>\n",
              "<p>22513 rows × 22 columns</p>\n",
              "</div>"
            ],
            "text/plain": [
              "             id  ...                                            summary\n",
              "0          2015  ...  Great location!  30 of 75 sq meters. This wood...\n",
              "1          2695  ...                                                NaN\n",
              "2          3176  ...  This beautiful first floor apartment  is situa...\n",
              "3          3309  ...  First of all: I prefer short-notice bookings. ...\n",
              "4          7071  ...  Cozy and large room in the beautiful district ...\n",
              "...         ...  ...                                                ...\n",
              "22547  29856708  ...  Charming apartment right in the center of Berl...\n",
              "22548  29857108  ...  Die Wohnung liegt in unmittelbarer Nähe zum Vi...\n",
              "22549  29864272  ...  Prenzlauer Berg is one of the most creative di...\n",
              "22550  29866805  ...  The double rooms with private shower / WC are ...\n",
              "22551  29867352  ...  Sunny, modern and cozy 3-bedroom shared flat i...\n",
              "\n",
              "[22513 rows x 22 columns]"
            ]
          },
          "metadata": {}
        }
      ]
    },
    {
      "cell_type": "markdown",
      "metadata": {
        "id": "E7WBtjaEgjq9"
      },
      "source": [
        "###Cleaning the price attribute"
      ]
    },
    {
      "cell_type": "markdown",
      "metadata": {
        "id": "6PBNYjwfzsO8"
      },
      "source": [
        "#####Check if any NaN value is present in the following price related columns"
      ]
    },
    {
      "cell_type": "code",
      "metadata": {
        "colab": {
          "base_uri": "https://localhost:8080/"
        },
        "id": "vwxl36cbcBLi",
        "outputId": "10a15e2c-7e50-40f8-afbe-fcf311f04199"
      },
      "source": [
        "print('Any value with NaN in price column: ', data_frame['price'].isnull().values.any())\n",
        "print('Any value with NaN in cleaning_fee column: ', data_frame['cleaning_fee'].isnull().values.any())\n",
        "print('Any value with NaN in extra_people column: ', data_frame['extra_people'].isnull().values.any())\n",
        "print('Any value with NaN in security_deposit column: ', data_frame['security_deposit'].isnull().values.any())"
      ],
      "execution_count": 17,
      "outputs": [
        {
          "output_type": "stream",
          "name": "stdout",
          "text": [
            "Any value with NaN in price column:  False\n",
            "Any value with NaN in cleaning_fee column:  True\n",
            "Any value with NaN in extra_people column:  False\n",
            "Any value with NaN in security_deposit column:  True\n"
          ]
        }
      ]
    },
    {
      "cell_type": "markdown",
      "metadata": {
        "id": "xsn4ZGuBzhea"
      },
      "source": [
        "#####Handling NaN in cleaning_fee, security_deposit columns"
      ]
    },
    {
      "cell_type": "code",
      "metadata": {
        "colab": {
          "base_uri": "https://localhost:8080/"
        },
        "id": "6eRqovO4zeay",
        "outputId": "ddbc73f2-a122-46d2-bd18-742830cc0ceb"
      },
      "source": [
        "data_frame['cleaning_fee'] = data_frame['cleaning_fee'].fillna('$0.00')\n",
        "data_frame['security_deposit'] = data_frame['security_deposit'].fillna('$0.00')\n",
        "print('Any value with NaN in cleaning_fee column: ', data_frame['cleaning_fee'].isnull().values.any())\n",
        "print('Any value with NaN in security_deposit column: ', data_frame['security_deposit'].isnull().values.any())\n",
        "data_frame.shape"
      ],
      "execution_count": 18,
      "outputs": [
        {
          "output_type": "stream",
          "name": "stdout",
          "text": [
            "Any value with NaN in cleaning_fee column:  False\n",
            "Any value with NaN in security_deposit column:  False\n"
          ]
        },
        {
          "output_type": "execute_result",
          "data": {
            "text/plain": [
              "(22513, 22)"
            ]
          },
          "metadata": {},
          "execution_count": 18
        }
      ]
    },
    {
      "cell_type": "code",
      "metadata": {
        "colab": {
          "base_uri": "https://localhost:8080/",
          "height": 625
        },
        "id": "jHMM6L-xDt_Y",
        "outputId": "e7732cdf-5f61-4d82-892a-c9982cd62e39"
      },
      "source": [
        "data_frame.head()"
      ],
      "execution_count": 19,
      "outputs": [
        {
          "output_type": "execute_result",
          "data": {
            "text/html": [
              "<div>\n",
              "<style scoped>\n",
              "    .dataframe tbody tr th:only-of-type {\n",
              "        vertical-align: middle;\n",
              "    }\n",
              "\n",
              "    .dataframe tbody tr th {\n",
              "        vertical-align: top;\n",
              "    }\n",
              "\n",
              "    .dataframe thead th {\n",
              "        text-align: right;\n",
              "    }\n",
              "</style>\n",
              "<table border=\"1\" class=\"dataframe\">\n",
              "  <thead>\n",
              "    <tr style=\"text-align: right;\">\n",
              "      <th></th>\n",
              "      <th>id</th>\n",
              "      <th>listing_url</th>\n",
              "      <th>space</th>\n",
              "      <th>property_type</th>\n",
              "      <th>street</th>\n",
              "      <th>neighbourhood</th>\n",
              "      <th>neighbourhood_group</th>\n",
              "      <th>beds</th>\n",
              "      <th>bed_type</th>\n",
              "      <th>room_type</th>\n",
              "      <th>amenities</th>\n",
              "      <th>square_feet</th>\n",
              "      <th>price</th>\n",
              "      <th>security_deposit</th>\n",
              "      <th>cleaning_fee</th>\n",
              "      <th>guests_included</th>\n",
              "      <th>extra_people</th>\n",
              "      <th>minimum_nights</th>\n",
              "      <th>maximum_nights</th>\n",
              "      <th>number_of_reviews</th>\n",
              "      <th>host_is_superhost</th>\n",
              "      <th>summary</th>\n",
              "    </tr>\n",
              "  </thead>\n",
              "  <tbody>\n",
              "    <tr>\n",
              "      <th>0</th>\n",
              "      <td>2015</td>\n",
              "      <td>https://www.airbnb.com/rooms/2015</td>\n",
              "      <td>A+++ location! This „Einliegerwohnung“ is an e...</td>\n",
              "      <td>Guesthouse</td>\n",
              "      <td>Berlin, Berlin, Germany</td>\n",
              "      <td>Brunnenstr. Süd</td>\n",
              "      <td>Mitte</td>\n",
              "      <td>2.0</td>\n",
              "      <td>Real Bed</td>\n",
              "      <td>Entire home/apt</td>\n",
              "      <td>{TV,\"Cable TV\",Wifi,Kitchen,Gym,Heating,\"Famil...</td>\n",
              "      <td>NaN</td>\n",
              "      <td>$60.00</td>\n",
              "      <td>$200.00</td>\n",
              "      <td>$30.00</td>\n",
              "      <td>1</td>\n",
              "      <td>$28.00</td>\n",
              "      <td>4</td>\n",
              "      <td>1125</td>\n",
              "      <td>118</td>\n",
              "      <td>t</td>\n",
              "      <td>Great location!  30 of 75 sq meters. This wood...</td>\n",
              "    </tr>\n",
              "    <tr>\n",
              "      <th>1</th>\n",
              "      <td>2695</td>\n",
              "      <td>https://www.airbnb.com/rooms/2695</td>\n",
              "      <td>In the summertime we are spending most of our ...</td>\n",
              "      <td>Apartment</td>\n",
              "      <td>Berlin, Berlin, Germany</td>\n",
              "      <td>Prenzlauer Berg Nordwest</td>\n",
              "      <td>Pankow</td>\n",
              "      <td>1.0</td>\n",
              "      <td>Real Bed</td>\n",
              "      <td>Private room</td>\n",
              "      <td>{Wifi,Kitchen,Elevator,Heating,Washer,Essentia...</td>\n",
              "      <td>NaN</td>\n",
              "      <td>$17.00</td>\n",
              "      <td>$0.00</td>\n",
              "      <td>$0.00</td>\n",
              "      <td>1</td>\n",
              "      <td>$0.00</td>\n",
              "      <td>2</td>\n",
              "      <td>40</td>\n",
              "      <td>6</td>\n",
              "      <td>f</td>\n",
              "      <td>NaN</td>\n",
              "    </tr>\n",
              "    <tr>\n",
              "      <th>2</th>\n",
              "      <td>3176</td>\n",
              "      <td>https://www.airbnb.com/rooms/3176</td>\n",
              "      <td>1st floor (68m2) apartment on Kollwitzplatz/ P...</td>\n",
              "      <td>Apartment</td>\n",
              "      <td>Berlin, Berlin, Germany</td>\n",
              "      <td>Prenzlauer Berg Südwest</td>\n",
              "      <td>Pankow</td>\n",
              "      <td>2.0</td>\n",
              "      <td>Real Bed</td>\n",
              "      <td>Entire home/apt</td>\n",
              "      <td>{Internet,Wifi,Kitchen,\"Buzzer/wireless interc...</td>\n",
              "      <td>720.0</td>\n",
              "      <td>$90.00</td>\n",
              "      <td>$200.00</td>\n",
              "      <td>$50.00</td>\n",
              "      <td>2</td>\n",
              "      <td>$20.00</td>\n",
              "      <td>62</td>\n",
              "      <td>1125</td>\n",
              "      <td>143</td>\n",
              "      <td>f</td>\n",
              "      <td>This beautiful first floor apartment  is situa...</td>\n",
              "    </tr>\n",
              "    <tr>\n",
              "      <th>3</th>\n",
              "      <td>3309</td>\n",
              "      <td>https://www.airbnb.com/rooms/3309</td>\n",
              "      <td>Your room is really big and has 26 sqm, is ver...</td>\n",
              "      <td>Apartment</td>\n",
              "      <td>Berlin, Berlin, Germany</td>\n",
              "      <td>Schöneberg-Nord</td>\n",
              "      <td>Tempelhof - Schöneberg</td>\n",
              "      <td>1.0</td>\n",
              "      <td>Pull-out Sofa</td>\n",
              "      <td>Private room</td>\n",
              "      <td>{Internet,Wifi,\"Pets allowed\",\"Pets live on th...</td>\n",
              "      <td>0.0</td>\n",
              "      <td>$26.00</td>\n",
              "      <td>$250.00</td>\n",
              "      <td>$30.00</td>\n",
              "      <td>1</td>\n",
              "      <td>$18.00</td>\n",
              "      <td>5</td>\n",
              "      <td>360</td>\n",
              "      <td>25</td>\n",
              "      <td>f</td>\n",
              "      <td>First of all: I prefer short-notice bookings. ...</td>\n",
              "    </tr>\n",
              "    <tr>\n",
              "      <th>4</th>\n",
              "      <td>7071</td>\n",
              "      <td>https://www.airbnb.com/rooms/7071</td>\n",
              "      <td>The BrightRoom is an approx. 20 sqm (215ft²), ...</td>\n",
              "      <td>Apartment</td>\n",
              "      <td>Berlin, Berlin, Germany</td>\n",
              "      <td>Helmholtzplatz</td>\n",
              "      <td>Pankow</td>\n",
              "      <td>2.0</td>\n",
              "      <td>Real Bed</td>\n",
              "      <td>Private room</td>\n",
              "      <td>{Wifi,Heating,\"Family/kid friendly\",Essentials...</td>\n",
              "      <td>NaN</td>\n",
              "      <td>$42.00</td>\n",
              "      <td>$0.00</td>\n",
              "      <td>$0.00</td>\n",
              "      <td>1</td>\n",
              "      <td>$24.00</td>\n",
              "      <td>2</td>\n",
              "      <td>10</td>\n",
              "      <td>197</td>\n",
              "      <td>t</td>\n",
              "      <td>Cozy and large room in the beautiful district ...</td>\n",
              "    </tr>\n",
              "  </tbody>\n",
              "</table>\n",
              "</div>"
            ],
            "text/plain": [
              "     id  ...                                            summary\n",
              "0  2015  ...  Great location!  30 of 75 sq meters. This wood...\n",
              "1  2695  ...                                                NaN\n",
              "2  3176  ...  This beautiful first floor apartment  is situa...\n",
              "3  3309  ...  First of all: I prefer short-notice bookings. ...\n",
              "4  7071  ...  Cozy and large room in the beautiful district ...\n",
              "\n",
              "[5 rows x 22 columns]"
            ]
          },
          "metadata": {},
          "execution_count": 19
        }
      ]
    },
    {
      "cell_type": "markdown",
      "metadata": {
        "id": "_XpqLb7nWJZ-"
      },
      "source": [
        "#####For easy readability, remove the $ symbol from the price related columns"
      ]
    },
    {
      "cell_type": "code",
      "metadata": {
        "colab": {
          "base_uri": "https://localhost:8080/",
          "height": 625
        },
        "id": "GpZRvxTNTiez",
        "outputId": "8fc2dacd-632d-48d3-bc45-b21a661735af"
      },
      "source": [
        "data_frame['price'] = data_frame['price'].str.replace('$', '')\n",
        "data_frame['cleaning_fee'] = data_frame['cleaning_fee'].str.replace('$', '')\n",
        "data_frame['security_deposit'] = data_frame['security_deposit'].str.replace('$', '')\n",
        "data_frame['extra_people'] = data_frame['extra_people'].str.replace('$', '')\n",
        "data_frame['price'] = pd.to_numeric(data_frame['price'],errors='coerce')\n",
        "data_frame['cleaning_fee'] = pd.to_numeric(data_frame['cleaning_fee'],errors='coerce')\n",
        "data_frame['security_deposit'] = pd.to_numeric(data_frame['security_deposit'],errors='coerce')\n",
        "data_frame['extra_people'] = pd.to_numeric(data_frame['extra_people'],errors='coerce')\n",
        "data_frame.head()"
      ],
      "execution_count": 20,
      "outputs": [
        {
          "output_type": "execute_result",
          "data": {
            "text/html": [
              "<div>\n",
              "<style scoped>\n",
              "    .dataframe tbody tr th:only-of-type {\n",
              "        vertical-align: middle;\n",
              "    }\n",
              "\n",
              "    .dataframe tbody tr th {\n",
              "        vertical-align: top;\n",
              "    }\n",
              "\n",
              "    .dataframe thead th {\n",
              "        text-align: right;\n",
              "    }\n",
              "</style>\n",
              "<table border=\"1\" class=\"dataframe\">\n",
              "  <thead>\n",
              "    <tr style=\"text-align: right;\">\n",
              "      <th></th>\n",
              "      <th>id</th>\n",
              "      <th>listing_url</th>\n",
              "      <th>space</th>\n",
              "      <th>property_type</th>\n",
              "      <th>street</th>\n",
              "      <th>neighbourhood</th>\n",
              "      <th>neighbourhood_group</th>\n",
              "      <th>beds</th>\n",
              "      <th>bed_type</th>\n",
              "      <th>room_type</th>\n",
              "      <th>amenities</th>\n",
              "      <th>square_feet</th>\n",
              "      <th>price</th>\n",
              "      <th>security_deposit</th>\n",
              "      <th>cleaning_fee</th>\n",
              "      <th>guests_included</th>\n",
              "      <th>extra_people</th>\n",
              "      <th>minimum_nights</th>\n",
              "      <th>maximum_nights</th>\n",
              "      <th>number_of_reviews</th>\n",
              "      <th>host_is_superhost</th>\n",
              "      <th>summary</th>\n",
              "    </tr>\n",
              "  </thead>\n",
              "  <tbody>\n",
              "    <tr>\n",
              "      <th>0</th>\n",
              "      <td>2015</td>\n",
              "      <td>https://www.airbnb.com/rooms/2015</td>\n",
              "      <td>A+++ location! This „Einliegerwohnung“ is an e...</td>\n",
              "      <td>Guesthouse</td>\n",
              "      <td>Berlin, Berlin, Germany</td>\n",
              "      <td>Brunnenstr. Süd</td>\n",
              "      <td>Mitte</td>\n",
              "      <td>2.0</td>\n",
              "      <td>Real Bed</td>\n",
              "      <td>Entire home/apt</td>\n",
              "      <td>{TV,\"Cable TV\",Wifi,Kitchen,Gym,Heating,\"Famil...</td>\n",
              "      <td>NaN</td>\n",
              "      <td>60.0</td>\n",
              "      <td>200.0</td>\n",
              "      <td>30.0</td>\n",
              "      <td>1</td>\n",
              "      <td>28.0</td>\n",
              "      <td>4</td>\n",
              "      <td>1125</td>\n",
              "      <td>118</td>\n",
              "      <td>t</td>\n",
              "      <td>Great location!  30 of 75 sq meters. This wood...</td>\n",
              "    </tr>\n",
              "    <tr>\n",
              "      <th>1</th>\n",
              "      <td>2695</td>\n",
              "      <td>https://www.airbnb.com/rooms/2695</td>\n",
              "      <td>In the summertime we are spending most of our ...</td>\n",
              "      <td>Apartment</td>\n",
              "      <td>Berlin, Berlin, Germany</td>\n",
              "      <td>Prenzlauer Berg Nordwest</td>\n",
              "      <td>Pankow</td>\n",
              "      <td>1.0</td>\n",
              "      <td>Real Bed</td>\n",
              "      <td>Private room</td>\n",
              "      <td>{Wifi,Kitchen,Elevator,Heating,Washer,Essentia...</td>\n",
              "      <td>NaN</td>\n",
              "      <td>17.0</td>\n",
              "      <td>0.0</td>\n",
              "      <td>0.0</td>\n",
              "      <td>1</td>\n",
              "      <td>0.0</td>\n",
              "      <td>2</td>\n",
              "      <td>40</td>\n",
              "      <td>6</td>\n",
              "      <td>f</td>\n",
              "      <td>NaN</td>\n",
              "    </tr>\n",
              "    <tr>\n",
              "      <th>2</th>\n",
              "      <td>3176</td>\n",
              "      <td>https://www.airbnb.com/rooms/3176</td>\n",
              "      <td>1st floor (68m2) apartment on Kollwitzplatz/ P...</td>\n",
              "      <td>Apartment</td>\n",
              "      <td>Berlin, Berlin, Germany</td>\n",
              "      <td>Prenzlauer Berg Südwest</td>\n",
              "      <td>Pankow</td>\n",
              "      <td>2.0</td>\n",
              "      <td>Real Bed</td>\n",
              "      <td>Entire home/apt</td>\n",
              "      <td>{Internet,Wifi,Kitchen,\"Buzzer/wireless interc...</td>\n",
              "      <td>720.0</td>\n",
              "      <td>90.0</td>\n",
              "      <td>200.0</td>\n",
              "      <td>50.0</td>\n",
              "      <td>2</td>\n",
              "      <td>20.0</td>\n",
              "      <td>62</td>\n",
              "      <td>1125</td>\n",
              "      <td>143</td>\n",
              "      <td>f</td>\n",
              "      <td>This beautiful first floor apartment  is situa...</td>\n",
              "    </tr>\n",
              "    <tr>\n",
              "      <th>3</th>\n",
              "      <td>3309</td>\n",
              "      <td>https://www.airbnb.com/rooms/3309</td>\n",
              "      <td>Your room is really big and has 26 sqm, is ver...</td>\n",
              "      <td>Apartment</td>\n",
              "      <td>Berlin, Berlin, Germany</td>\n",
              "      <td>Schöneberg-Nord</td>\n",
              "      <td>Tempelhof - Schöneberg</td>\n",
              "      <td>1.0</td>\n",
              "      <td>Pull-out Sofa</td>\n",
              "      <td>Private room</td>\n",
              "      <td>{Internet,Wifi,\"Pets allowed\",\"Pets live on th...</td>\n",
              "      <td>0.0</td>\n",
              "      <td>26.0</td>\n",
              "      <td>250.0</td>\n",
              "      <td>30.0</td>\n",
              "      <td>1</td>\n",
              "      <td>18.0</td>\n",
              "      <td>5</td>\n",
              "      <td>360</td>\n",
              "      <td>25</td>\n",
              "      <td>f</td>\n",
              "      <td>First of all: I prefer short-notice bookings. ...</td>\n",
              "    </tr>\n",
              "    <tr>\n",
              "      <th>4</th>\n",
              "      <td>7071</td>\n",
              "      <td>https://www.airbnb.com/rooms/7071</td>\n",
              "      <td>The BrightRoom is an approx. 20 sqm (215ft²), ...</td>\n",
              "      <td>Apartment</td>\n",
              "      <td>Berlin, Berlin, Germany</td>\n",
              "      <td>Helmholtzplatz</td>\n",
              "      <td>Pankow</td>\n",
              "      <td>2.0</td>\n",
              "      <td>Real Bed</td>\n",
              "      <td>Private room</td>\n",
              "      <td>{Wifi,Heating,\"Family/kid friendly\",Essentials...</td>\n",
              "      <td>NaN</td>\n",
              "      <td>42.0</td>\n",
              "      <td>0.0</td>\n",
              "      <td>0.0</td>\n",
              "      <td>1</td>\n",
              "      <td>24.0</td>\n",
              "      <td>2</td>\n",
              "      <td>10</td>\n",
              "      <td>197</td>\n",
              "      <td>t</td>\n",
              "      <td>Cozy and large room in the beautiful district ...</td>\n",
              "    </tr>\n",
              "  </tbody>\n",
              "</table>\n",
              "</div>"
            ],
            "text/plain": [
              "     id  ...                                            summary\n",
              "0  2015  ...  Great location!  30 of 75 sq meters. This wood...\n",
              "1  2695  ...                                                NaN\n",
              "2  3176  ...  This beautiful first floor apartment  is situa...\n",
              "3  3309  ...  First of all: I prefer short-notice bookings. ...\n",
              "4  7071  ...  Cozy and large room in the beautiful district ...\n",
              "\n",
              "[5 rows x 22 columns]"
            ]
          },
          "metadata": {},
          "execution_count": 20
        }
      ]
    },
    {
      "cell_type": "markdown",
      "metadata": {
        "id": "_5ju8cilaJUM"
      },
      "source": [
        "###Working on price column to check any outliers"
      ]
    },
    {
      "cell_type": "code",
      "metadata": {
        "colab": {
          "base_uri": "https://localhost:8080/"
        },
        "id": "JDiz4lIfaa3J",
        "outputId": "31ab68d7-7c08-41da-e0b6-978dfd0b0969"
      },
      "source": [
        "data_frame['price'].describe()"
      ],
      "execution_count": 21,
      "outputs": [
        {
          "output_type": "execute_result",
          "data": {
            "text/plain": [
              "count    22472.000000\n",
              "mean        58.967827\n",
              "std         50.782280\n",
              "min          0.000000\n",
              "25%         30.000000\n",
              "50%         45.000000\n",
              "75%         70.000000\n",
              "max        999.000000\n",
              "Name: price, dtype: float64"
            ]
          },
          "metadata": {},
          "execution_count": 21
        }
      ]
    },
    {
      "cell_type": "code",
      "metadata": {
        "colab": {
          "base_uri": "https://localhost:8080/",
          "height": 296
        },
        "id": "CVs8nruzdDOl",
        "outputId": "e9451c2e-3267-43f8-9dcf-f414aee5c2fd"
      },
      "source": [
        "sns.boxplot(x=data_frame['price'])"
      ],
      "execution_count": 22,
      "outputs": [
        {
          "output_type": "execute_result",
          "data": {
            "text/plain": [
              "<matplotlib.axes._subplots.AxesSubplot at 0x7f454f0efd90>"
            ]
          },
          "metadata": {},
          "execution_count": 22
        },
        {
          "output_type": "display_data",
          "data": {
            "image/png": "[encoded data removed]",
            "text/plain": [
              "<Figure size 432x288 with 1 Axes>"
            ]
          },
          "metadata": {
            "needs_background": "light"
          }
        }
      ]
    },
    {
      "cell_type": "markdown",
      "metadata": {
        "id": "jUS_udjjgIz-"
      },
      "source": [
        "As we can see, the values are more scatter after the price of 500, hence we can eliminate such outliers"
      ]
    },
    {
      "cell_type": "code",
      "metadata": {
        "colab": {
          "base_uri": "https://localhost:8080/"
        },
        "id": "UycXfhBalCUs",
        "outputId": "034fcf97-dd28-4d7a-d40c-5b8f5bd9c99e"
      },
      "source": [
        "data_frame = data_frame.loc[~((data_frame['price'] > 500) | (data_frame['price'] == 0.0)),:]\n",
        "data_frame.shape"
      ],
      "execution_count": 23,
      "outputs": [
        {
          "output_type": "execute_result",
          "data": {
            "text/plain": [
              "(22472, 22)"
            ]
          },
          "metadata": {},
          "execution_count": 23
        }
      ]
    },
    {
      "cell_type": "code",
      "metadata": {
        "colab": {
          "base_uri": "https://localhost:8080/",
          "height": 625
        },
        "id": "brdvyz9XFMmm",
        "outputId": "12c1004b-7a67-43a6-e0f7-c80004f975ad"
      },
      "source": [
        "data_frame.head()"
      ],
      "execution_count": 24,
      "outputs": [
        {
          "output_type": "execute_result",
          "data": {
            "text/html": [
              "<div>\n",
              "<style scoped>\n",
              "    .dataframe tbody tr th:only-of-type {\n",
              "        vertical-align: middle;\n",
              "    }\n",
              "\n",
              "    .dataframe tbody tr th {\n",
              "        vertical-align: top;\n",
              "    }\n",
              "\n",
              "    .dataframe thead th {\n",
              "        text-align: right;\n",
              "    }\n",
              "</style>\n",
              "<table border=\"1\" class=\"dataframe\">\n",
              "  <thead>\n",
              "    <tr style=\"text-align: right;\">\n",
              "      <th></th>\n",
              "      <th>id</th>\n",
              "      <th>listing_url</th>\n",
              "      <th>space</th>\n",
              "      <th>property_type</th>\n",
              "      <th>street</th>\n",
              "      <th>neighbourhood</th>\n",
              "      <th>neighbourhood_group</th>\n",
              "      <th>beds</th>\n",
              "      <th>bed_type</th>\n",
              "      <th>room_type</th>\n",
              "      <th>amenities</th>\n",
              "      <th>square_feet</th>\n",
              "      <th>price</th>\n",
              "      <th>security_deposit</th>\n",
              "      <th>cleaning_fee</th>\n",
              "      <th>guests_included</th>\n",
              "      <th>extra_people</th>\n",
              "      <th>minimum_nights</th>\n",
              "      <th>maximum_nights</th>\n",
              "      <th>number_of_reviews</th>\n",
              "      <th>host_is_superhost</th>\n",
              "      <th>summary</th>\n",
              "    </tr>\n",
              "  </thead>\n",
              "  <tbody>\n",
              "    <tr>\n",
              "      <th>0</th>\n",
              "      <td>2015</td>\n",
              "      <td>https://www.airbnb.com/rooms/2015</td>\n",
              "      <td>A+++ location! This „Einliegerwohnung“ is an e...</td>\n",
              "      <td>Guesthouse</td>\n",
              "      <td>Berlin, Berlin, Germany</td>\n",
              "      <td>Brunnenstr. Süd</td>\n",
              "      <td>Mitte</td>\n",
              "      <td>2.0</td>\n",
              "      <td>Real Bed</td>\n",
              "      <td>Entire home/apt</td>\n",
              "      <td>{TV,\"Cable TV\",Wifi,Kitchen,Gym,Heating,\"Famil...</td>\n",
              "      <td>NaN</td>\n",
              "      <td>60.0</td>\n",
              "      <td>200.0</td>\n",
              "      <td>30.0</td>\n",
              "      <td>1</td>\n",
              "      <td>28.0</td>\n",
              "      <td>4</td>\n",
              "      <td>1125</td>\n",
              "      <td>118</td>\n",
              "      <td>t</td>\n",
              "      <td>Great location!  30 of 75 sq meters. This wood...</td>\n",
              "    </tr>\n",
              "    <tr>\n",
              "      <th>1</th>\n",
              "      <td>2695</td>\n",
              "      <td>https://www.airbnb.com/rooms/2695</td>\n",
              "      <td>In the summertime we are spending most of our ...</td>\n",
              "      <td>Apartment</td>\n",
              "      <td>Berlin, Berlin, Germany</td>\n",
              "      <td>Prenzlauer Berg Nordwest</td>\n",
              "      <td>Pankow</td>\n",
              "      <td>1.0</td>\n",
              "      <td>Real Bed</td>\n",
              "      <td>Private room</td>\n",
              "      <td>{Wifi,Kitchen,Elevator,Heating,Washer,Essentia...</td>\n",
              "      <td>NaN</td>\n",
              "      <td>17.0</td>\n",
              "      <td>0.0</td>\n",
              "      <td>0.0</td>\n",
              "      <td>1</td>\n",
              "      <td>0.0</td>\n",
              "      <td>2</td>\n",
              "      <td>40</td>\n",
              "      <td>6</td>\n",
              "      <td>f</td>\n",
              "      <td>NaN</td>\n",
              "    </tr>\n",
              "    <tr>\n",
              "      <th>2</th>\n",
              "      <td>3176</td>\n",
              "      <td>https://www.airbnb.com/rooms/3176</td>\n",
              "      <td>1st floor (68m2) apartment on Kollwitzplatz/ P...</td>\n",
              "      <td>Apartment</td>\n",
              "      <td>Berlin, Berlin, Germany</td>\n",
              "      <td>Prenzlauer Berg Südwest</td>\n",
              "      <td>Pankow</td>\n",
              "      <td>2.0</td>\n",
              "      <td>Real Bed</td>\n",
              "      <td>Entire home/apt</td>\n",
              "      <td>{Internet,Wifi,Kitchen,\"Buzzer/wireless interc...</td>\n",
              "      <td>720.0</td>\n",
              "      <td>90.0</td>\n",
              "      <td>200.0</td>\n",
              "      <td>50.0</td>\n",
              "      <td>2</td>\n",
              "      <td>20.0</td>\n",
              "      <td>62</td>\n",
              "      <td>1125</td>\n",
              "      <td>143</td>\n",
              "      <td>f</td>\n",
              "      <td>This beautiful first floor apartment  is situa...</td>\n",
              "    </tr>\n",
              "    <tr>\n",
              "      <th>3</th>\n",
              "      <td>3309</td>\n",
              "      <td>https://www.airbnb.com/rooms/3309</td>\n",
              "      <td>Your room is really big and has 26 sqm, is ver...</td>\n",
              "      <td>Apartment</td>\n",
              "      <td>Berlin, Berlin, Germany</td>\n",
              "      <td>Schöneberg-Nord</td>\n",
              "      <td>Tempelhof - Schöneberg</td>\n",
              "      <td>1.0</td>\n",
              "      <td>Pull-out Sofa</td>\n",
              "      <td>Private room</td>\n",
              "      <td>{Internet,Wifi,\"Pets allowed\",\"Pets live on th...</td>\n",
              "      <td>0.0</td>\n",
              "      <td>26.0</td>\n",
              "      <td>250.0</td>\n",
              "      <td>30.0</td>\n",
              "      <td>1</td>\n",
              "      <td>18.0</td>\n",
              "      <td>5</td>\n",
              "      <td>360</td>\n",
              "      <td>25</td>\n",
              "      <td>f</td>\n",
              "      <td>First of all: I prefer short-notice bookings. ...</td>\n",
              "    </tr>\n",
              "    <tr>\n",
              "      <th>4</th>\n",
              "      <td>7071</td>\n",
              "      <td>https://www.airbnb.com/rooms/7071</td>\n",
              "      <td>The BrightRoom is an approx. 20 sqm (215ft²), ...</td>\n",
              "      <td>Apartment</td>\n",
              "      <td>Berlin, Berlin, Germany</td>\n",
              "      <td>Helmholtzplatz</td>\n",
              "      <td>Pankow</td>\n",
              "      <td>2.0</td>\n",
              "      <td>Real Bed</td>\n",
              "      <td>Private room</td>\n",
              "      <td>{Wifi,Heating,\"Family/kid friendly\",Essentials...</td>\n",
              "      <td>NaN</td>\n",
              "      <td>42.0</td>\n",
              "      <td>0.0</td>\n",
              "      <td>0.0</td>\n",
              "      <td>1</td>\n",
              "      <td>24.0</td>\n",
              "      <td>2</td>\n",
              "      <td>10</td>\n",
              "      <td>197</td>\n",
              "      <td>t</td>\n",
              "      <td>Cozy and large room in the beautiful district ...</td>\n",
              "    </tr>\n",
              "  </tbody>\n",
              "</table>\n",
              "</div>"
            ],
            "text/plain": [
              "     id  ...                                            summary\n",
              "0  2015  ...  Great location!  30 of 75 sq meters. This wood...\n",
              "1  2695  ...                                                NaN\n",
              "2  3176  ...  This beautiful first floor apartment  is situa...\n",
              "3  3309  ...  First of all: I prefer short-notice bookings. ...\n",
              "4  7071  ...  Cozy and large room in the beautiful district ...\n",
              "\n",
              "[5 rows x 22 columns]"
            ]
          },
          "metadata": {},
          "execution_count": 24
        }
      ]
    },
    {
      "cell_type": "markdown",
      "metadata": {
        "id": "0HgzzTsyGm_N"
      },
      "source": [
        "###Checking for columns with many NaN\n"
      ]
    },
    {
      "cell_type": "code",
      "metadata": {
        "colab": {
          "base_uri": "https://localhost:8080/"
        },
        "id": "ayV5t89mG3mm",
        "outputId": "fa02f7b2-fb2c-4df5-9289-4f5396317662"
      },
      "source": [
        "data_frame.isnull().sum()"
      ],
      "execution_count": 25,
      "outputs": [
        {
          "output_type": "execute_result",
          "data": {
            "text/plain": [
              "id                         0\n",
              "listing_url                0\n",
              "space                   8509\n",
              "property_type              0\n",
              "street                     0\n",
              "neighbourhood              0\n",
              "neighbourhood_group        0\n",
              "beds                      38\n",
              "bed_type                   0\n",
              "room_type                  0\n",
              "amenities                  0\n",
              "square_feet            22027\n",
              "price                     41\n",
              "security_deposit         531\n",
              "cleaning_fee               1\n",
              "guests_included            0\n",
              "extra_people               0\n",
              "minimum_nights             0\n",
              "maximum_nights             0\n",
              "number_of_reviews          0\n",
              "host_is_superhost         26\n",
              "summary                  953\n",
              "dtype: int64"
            ]
          },
          "metadata": {},
          "execution_count": 25
        }
      ]
    },
    {
      "cell_type": "markdown",
      "metadata": {
        "id": "YMWrZ6aEQn_Q"
      },
      "source": [
        "Square feet and Space has a lot of NaN which might not be very useful for analysis so we can get rid of those columns"
      ]
    },
    {
      "cell_type": "code",
      "metadata": {
        "id": "HG9WxeOOQ-sO"
      },
      "source": [
        "data_frame = data_frame.drop('space', 1)\n",
        "data_frame = data_frame.drop('square_feet', 1)"
      ],
      "execution_count": 26,
      "outputs": []
    },
    {
      "cell_type": "code",
      "metadata": {
        "colab": {
          "base_uri": "https://localhost:8080/",
          "height": 625
        },
        "id": "ND6USls1RK-O",
        "outputId": "f11e80b9-998c-4843-9038-10991d4e46a3"
      },
      "source": [
        "data_frame.head()"
      ],
      "execution_count": 27,
      "outputs": [
        {
          "output_type": "execute_result",
          "data": {
            "text/html": [
              "<div>\n",
              "<style scoped>\n",
              "    .dataframe tbody tr th:only-of-type {\n",
              "        vertical-align: middle;\n",
              "    }\n",
              "\n",
              "    .dataframe tbody tr th {\n",
              "        vertical-align: top;\n",
              "    }\n",
              "\n",
              "    .dataframe thead th {\n",
              "        text-align: right;\n",
              "    }\n",
              "</style>\n",
              "<table border=\"1\" class=\"dataframe\">\n",
              "  <thead>\n",
              "    <tr style=\"text-align: right;\">\n",
              "      <th></th>\n",
              "      <th>id</th>\n",
              "      <th>listing_url</th>\n",
              "      <th>property_type</th>\n",
              "      <th>street</th>\n",
              "      <th>neighbourhood</th>\n",
              "      <th>neighbourhood_group</th>\n",
              "      <th>beds</th>\n",
              "      <th>bed_type</th>\n",
              "      <th>room_type</th>\n",
              "      <th>amenities</th>\n",
              "      <th>price</th>\n",
              "      <th>security_deposit</th>\n",
              "      <th>cleaning_fee</th>\n",
              "      <th>guests_included</th>\n",
              "      <th>extra_people</th>\n",
              "      <th>minimum_nights</th>\n",
              "      <th>maximum_nights</th>\n",
              "      <th>number_of_reviews</th>\n",
              "      <th>host_is_superhost</th>\n",
              "      <th>summary</th>\n",
              "    </tr>\n",
              "  </thead>\n",
              "  <tbody>\n",
              "    <tr>\n",
              "      <th>0</th>\n",
              "      <td>2015</td>\n",
              "      <td>https://www.airbnb.com/rooms/2015</td>\n",
              "      <td>Guesthouse</td>\n",
              "      <td>Berlin, Berlin, Germany</td>\n",
              "      <td>Brunnenstr. Süd</td>\n",
              "      <td>Mitte</td>\n",
              "      <td>2.0</td>\n",
              "      <td>Real Bed</td>\n",
              "      <td>Entire home/apt</td>\n",
              "      <td>{TV,\"Cable TV\",Wifi,Kitchen,Gym,Heating,\"Famil...</td>\n",
              "      <td>60.0</td>\n",
              "      <td>200.0</td>\n",
              "      <td>30.0</td>\n",
              "      <td>1</td>\n",
              "      <td>28.0</td>\n",
              "      <td>4</td>\n",
              "      <td>1125</td>\n",
              "      <td>118</td>\n",
              "      <td>t</td>\n",
              "      <td>Great location!  30 of 75 sq meters. This wood...</td>\n",
              "    </tr>\n",
              "    <tr>\n",
              "      <th>1</th>\n",
              "      <td>2695</td>\n",
              "      <td>https://www.airbnb.com/rooms/2695</td>\n",
              "      <td>Apartment</td>\n",
              "      <td>Berlin, Berlin, Germany</td>\n",
              "      <td>Prenzlauer Berg Nordwest</td>\n",
              "      <td>Pankow</td>\n",
              "      <td>1.0</td>\n",
              "      <td>Real Bed</td>\n",
              "      <td>Private room</td>\n",
              "      <td>{Wifi,Kitchen,Elevator,Heating,Washer,Essentia...</td>\n",
              "      <td>17.0</td>\n",
              "      <td>0.0</td>\n",
              "      <td>0.0</td>\n",
              "      <td>1</td>\n",
              "      <td>0.0</td>\n",
              "      <td>2</td>\n",
              "      <td>40</td>\n",
              "      <td>6</td>\n",
              "      <td>f</td>\n",
              "      <td>NaN</td>\n",
              "    </tr>\n",
              "    <tr>\n",
              "      <th>2</th>\n",
              "      <td>3176</td>\n",
              "      <td>https://www.airbnb.com/rooms/3176</td>\n",
              "      <td>Apartment</td>\n",
              "      <td>Berlin, Berlin, Germany</td>\n",
              "      <td>Prenzlauer Berg Südwest</td>\n",
              "      <td>Pankow</td>\n",
              "      <td>2.0</td>\n",
              "      <td>Real Bed</td>\n",
              "      <td>Entire home/apt</td>\n",
              "      <td>{Internet,Wifi,Kitchen,\"Buzzer/wireless interc...</td>\n",
              "      <td>90.0</td>\n",
              "      <td>200.0</td>\n",
              "      <td>50.0</td>\n",
              "      <td>2</td>\n",
              "      <td>20.0</td>\n",
              "      <td>62</td>\n",
              "      <td>1125</td>\n",
              "      <td>143</td>\n",
              "      <td>f</td>\n",
              "      <td>This beautiful first floor apartment  is situa...</td>\n",
              "    </tr>\n",
              "    <tr>\n",
              "      <th>3</th>\n",
              "      <td>3309</td>\n",
              "      <td>https://www.airbnb.com/rooms/3309</td>\n",
              "      <td>Apartment</td>\n",
              "      <td>Berlin, Berlin, Germany</td>\n",
              "      <td>Schöneberg-Nord</td>\n",
              "      <td>Tempelhof - Schöneberg</td>\n",
              "      <td>1.0</td>\n",
              "      <td>Pull-out Sofa</td>\n",
              "      <td>Private room</td>\n",
              "      <td>{Internet,Wifi,\"Pets allowed\",\"Pets live on th...</td>\n",
              "      <td>26.0</td>\n",
              "      <td>250.0</td>\n",
              "      <td>30.0</td>\n",
              "      <td>1</td>\n",
              "      <td>18.0</td>\n",
              "      <td>5</td>\n",
              "      <td>360</td>\n",
              "      <td>25</td>\n",
              "      <td>f</td>\n",
              "      <td>First of all: I prefer short-notice bookings. ...</td>\n",
              "    </tr>\n",
              "    <tr>\n",
              "      <th>4</th>\n",
              "      <td>7071</td>\n",
              "      <td>https://www.airbnb.com/rooms/7071</td>\n",
              "      <td>Apartment</td>\n",
              "      <td>Berlin, Berlin, Germany</td>\n",
              "      <td>Helmholtzplatz</td>\n",
              "      <td>Pankow</td>\n",
              "      <td>2.0</td>\n",
              "      <td>Real Bed</td>\n",
              "      <td>Private room</td>\n",
              "      <td>{Wifi,Heating,\"Family/kid friendly\",Essentials...</td>\n",
              "      <td>42.0</td>\n",
              "      <td>0.0</td>\n",
              "      <td>0.0</td>\n",
              "      <td>1</td>\n",
              "      <td>24.0</td>\n",
              "      <td>2</td>\n",
              "      <td>10</td>\n",
              "      <td>197</td>\n",
              "      <td>t</td>\n",
              "      <td>Cozy and large room in the beautiful district ...</td>\n",
              "    </tr>\n",
              "  </tbody>\n",
              "</table>\n",
              "</div>"
            ],
            "text/plain": [
              "     id  ...                                            summary\n",
              "0  2015  ...  Great location!  30 of 75 sq meters. This wood...\n",
              "1  2695  ...                                                NaN\n",
              "2  3176  ...  This beautiful first floor apartment  is situa...\n",
              "3  3309  ...  First of all: I prefer short-notice bookings. ...\n",
              "4  7071  ...  Cozy and large room in the beautiful district ...\n",
              "\n",
              "[5 rows x 20 columns]"
            ]
          },
          "metadata": {},
          "execution_count": 27
        }
      ]
    },
    {
      "cell_type": "markdown",
      "metadata": {
        "id": "uDtA-cJ9S0BU"
      },
      "source": [
        "###Cleaning minimum and maximum nights"
      ]
    },
    {
      "cell_type": "markdown",
      "metadata": {
        "id": "0bKsC8-0TZbM"
      },
      "source": [
        "We see a very great numbers for minimum and maximum nights. We can restrict the minimum and maximum number of night to 1 to 3 years i.e., 1095 days"
      ]
    },
    {
      "cell_type": "code",
      "metadata": {
        "colab": {
          "base_uri": "https://localhost:8080/"
        },
        "id": "fS_ivZWyS4Sd",
        "outputId": "b97f39cd-956d-4748-a7e5-4a9647014135"
      },
      "source": [
        "data_frame = data_frame.loc[((data_frame['minimum_nights'] > 0) & (data_frame['maximum_nights'] < 1095)),:]\n",
        "data_frame.shape"
      ],
      "execution_count": 28,
      "outputs": [
        {
          "output_type": "execute_result",
          "data": {
            "text/plain": [
              "(10974, 20)"
            ]
          },
          "metadata": {},
          "execution_count": 28
        }
      ]
    },
    {
      "cell_type": "code",
      "metadata": {
        "colab": {
          "base_uri": "https://localhost:8080/",
          "height": 573
        },
        "id": "u3HmKO-yW24D",
        "outputId": "0e82b200-07c1-4c3b-f0f6-bdf7a2833c38"
      },
      "source": [
        "data_frame.head()"
      ],
      "execution_count": 29,
      "outputs": [
        {
          "output_type": "execute_result",
          "data": {
            "text/html": [
              "<div>\n",
              "<style scoped>\n",
              "    .dataframe tbody tr th:only-of-type {\n",
              "        vertical-align: middle;\n",
              "    }\n",
              "\n",
              "    .dataframe tbody tr th {\n",
              "        vertical-align: top;\n",
              "    }\n",
              "\n",
              "    .dataframe thead th {\n",
              "        text-align: right;\n",
              "    }\n",
              "</style>\n",
              "<table border=\"1\" class=\"dataframe\">\n",
              "  <thead>\n",
              "    <tr style=\"text-align: right;\">\n",
              "      <th></th>\n",
              "      <th>id</th>\n",
              "      <th>listing_url</th>\n",
              "      <th>property_type</th>\n",
              "      <th>street</th>\n",
              "      <th>neighbourhood</th>\n",
              "      <th>neighbourhood_group</th>\n",
              "      <th>beds</th>\n",
              "      <th>bed_type</th>\n",
              "      <th>room_type</th>\n",
              "      <th>amenities</th>\n",
              "      <th>price</th>\n",
              "      <th>security_deposit</th>\n",
              "      <th>cleaning_fee</th>\n",
              "      <th>guests_included</th>\n",
              "      <th>extra_people</th>\n",
              "      <th>minimum_nights</th>\n",
              "      <th>maximum_nights</th>\n",
              "      <th>number_of_reviews</th>\n",
              "      <th>host_is_superhost</th>\n",
              "      <th>summary</th>\n",
              "    </tr>\n",
              "  </thead>\n",
              "  <tbody>\n",
              "    <tr>\n",
              "      <th>1</th>\n",
              "      <td>2695</td>\n",
              "      <td>https://www.airbnb.com/rooms/2695</td>\n",
              "      <td>Apartment</td>\n",
              "      <td>Berlin, Berlin, Germany</td>\n",
              "      <td>Prenzlauer Berg Nordwest</td>\n",
              "      <td>Pankow</td>\n",
              "      <td>1.0</td>\n",
              "      <td>Real Bed</td>\n",
              "      <td>Private room</td>\n",
              "      <td>{Wifi,Kitchen,Elevator,Heating,Washer,Essentia...</td>\n",
              "      <td>17.0</td>\n",
              "      <td>0.0</td>\n",
              "      <td>0.0</td>\n",
              "      <td>1</td>\n",
              "      <td>0.0</td>\n",
              "      <td>2</td>\n",
              "      <td>40</td>\n",
              "      <td>6</td>\n",
              "      <td>f</td>\n",
              "      <td>NaN</td>\n",
              "    </tr>\n",
              "    <tr>\n",
              "      <th>3</th>\n",
              "      <td>3309</td>\n",
              "      <td>https://www.airbnb.com/rooms/3309</td>\n",
              "      <td>Apartment</td>\n",
              "      <td>Berlin, Berlin, Germany</td>\n",
              "      <td>Schöneberg-Nord</td>\n",
              "      <td>Tempelhof - Schöneberg</td>\n",
              "      <td>1.0</td>\n",
              "      <td>Pull-out Sofa</td>\n",
              "      <td>Private room</td>\n",
              "      <td>{Internet,Wifi,\"Pets allowed\",\"Pets live on th...</td>\n",
              "      <td>26.0</td>\n",
              "      <td>250.0</td>\n",
              "      <td>30.0</td>\n",
              "      <td>1</td>\n",
              "      <td>18.0</td>\n",
              "      <td>5</td>\n",
              "      <td>360</td>\n",
              "      <td>25</td>\n",
              "      <td>f</td>\n",
              "      <td>First of all: I prefer short-notice bookings. ...</td>\n",
              "    </tr>\n",
              "    <tr>\n",
              "      <th>4</th>\n",
              "      <td>7071</td>\n",
              "      <td>https://www.airbnb.com/rooms/7071</td>\n",
              "      <td>Apartment</td>\n",
              "      <td>Berlin, Berlin, Germany</td>\n",
              "      <td>Helmholtzplatz</td>\n",
              "      <td>Pankow</td>\n",
              "      <td>2.0</td>\n",
              "      <td>Real Bed</td>\n",
              "      <td>Private room</td>\n",
              "      <td>{Wifi,Heating,\"Family/kid friendly\",Essentials...</td>\n",
              "      <td>42.0</td>\n",
              "      <td>0.0</td>\n",
              "      <td>0.0</td>\n",
              "      <td>1</td>\n",
              "      <td>24.0</td>\n",
              "      <td>2</td>\n",
              "      <td>10</td>\n",
              "      <td>197</td>\n",
              "      <td>t</td>\n",
              "      <td>Cozy and large room in the beautiful district ...</td>\n",
              "    </tr>\n",
              "    <tr>\n",
              "      <th>5</th>\n",
              "      <td>9991</td>\n",
              "      <td>https://www.airbnb.com/rooms/9991</td>\n",
              "      <td>Apartment</td>\n",
              "      <td>Berlin, Berlin, Germany</td>\n",
              "      <td>Prenzlauer Berg Südwest</td>\n",
              "      <td>Pankow</td>\n",
              "      <td>7.0</td>\n",
              "      <td>Real Bed</td>\n",
              "      <td>Entire home/apt</td>\n",
              "      <td>{TV,\"Cable TV\",Internet,Wifi,Kitchen,\"Paid par...</td>\n",
              "      <td>180.0</td>\n",
              "      <td>400.0</td>\n",
              "      <td>80.0</td>\n",
              "      <td>5</td>\n",
              "      <td>10.0</td>\n",
              "      <td>6</td>\n",
              "      <td>14</td>\n",
              "      <td>6</td>\n",
              "      <td>f</td>\n",
              "      <td>4 bedroom with very large windows and outstand...</td>\n",
              "    </tr>\n",
              "    <tr>\n",
              "      <th>7</th>\n",
              "      <td>16401</td>\n",
              "      <td>https://www.airbnb.com/rooms/16401</td>\n",
              "      <td>Apartment</td>\n",
              "      <td>Berlin, Berlin, Germany</td>\n",
              "      <td>Frankfurter Allee Süd FK</td>\n",
              "      <td>Friedrichshain-Kreuzberg</td>\n",
              "      <td>2.0</td>\n",
              "      <td>Real Bed</td>\n",
              "      <td>Private room</td>\n",
              "      <td>{TV,\"Cable TV\",Internet,Wifi,Kitchen,\"Smoking ...</td>\n",
              "      <td>120.0</td>\n",
              "      <td>0.0</td>\n",
              "      <td>0.0</td>\n",
              "      <td>1</td>\n",
              "      <td>13.0</td>\n",
              "      <td>30</td>\n",
              "      <td>52</td>\n",
              "      <td>0</td>\n",
              "      <td>f</td>\n",
              "      <td>NaN</td>\n",
              "    </tr>\n",
              "  </tbody>\n",
              "</table>\n",
              "</div>"
            ],
            "text/plain": [
              "      id  ...                                            summary\n",
              "1   2695  ...                                                NaN\n",
              "3   3309  ...  First of all: I prefer short-notice bookings. ...\n",
              "4   7071  ...  Cozy and large room in the beautiful district ...\n",
              "5   9991  ...  4 bedroom with very large windows and outstand...\n",
              "7  16401  ...                                                NaN\n",
              "\n",
              "[5 rows x 20 columns]"
            ]
          },
          "metadata": {},
          "execution_count": 29
        }
      ]
    },
    {
      "cell_type": "markdown",
      "metadata": {
        "id": "n3Lp4JBjXN59"
      },
      "source": [
        "###Clean number of reviews column"
      ]
    },
    {
      "cell_type": "code",
      "metadata": {
        "colab": {
          "base_uri": "https://localhost:8080/"
        },
        "id": "7NY5xfWNYPLE",
        "outputId": "00e0510b-abae-4c9e-ce5a-471aebf7a2f4"
      },
      "source": [
        "(data_frame['number_of_reviews'] == 0). sum()"
      ],
      "execution_count": 30,
      "outputs": [
        {
          "output_type": "execute_result",
          "data": {
            "text/plain": [
              "1733"
            ]
          },
          "metadata": {},
          "execution_count": 30
        }
      ]
    },
    {
      "cell_type": "markdown",
      "metadata": {
        "id": "3uyoxAOObbDy"
      },
      "source": [
        "There are many places with no reviews at all, we can get rid of such Airbnb listings as well"
      ]
    },
    {
      "cell_type": "code",
      "metadata": {
        "colab": {
          "base_uri": "https://localhost:8080/"
        },
        "id": "iTLhbrcxbIas",
        "outputId": "d501253e-ba8f-41f0-d6f1-62a3ebdd1761"
      },
      "source": [
        "data_frame = data_frame.loc[~((data_frame['number_of_reviews'] == 0)),:]\n",
        "data_frame.shape"
      ],
      "execution_count": 31,
      "outputs": [
        {
          "output_type": "execute_result",
          "data": {
            "text/plain": [
              "(9241, 20)"
            ]
          },
          "metadata": {},
          "execution_count": 31
        }
      ]
    },
    {
      "cell_type": "code",
      "metadata": {
        "colab": {
          "base_uri": "https://localhost:8080/",
          "height": 625
        },
        "id": "IgcIzifgbzQ4",
        "outputId": "1ec6bf99-d8bd-4d29-e350-b2a166edfc47"
      },
      "source": [
        "data_frame.head()"
      ],
      "execution_count": 32,
      "outputs": [
        {
          "output_type": "execute_result",
          "data": {
            "text/html": [
              "<div>\n",
              "<style scoped>\n",
              "    .dataframe tbody tr th:only-of-type {\n",
              "        vertical-align: middle;\n",
              "    }\n",
              "\n",
              "    .dataframe tbody tr th {\n",
              "        vertical-align: top;\n",
              "    }\n",
              "\n",
              "    .dataframe thead th {\n",
              "        text-align: right;\n",
              "    }\n",
              "</style>\n",
              "<table border=\"1\" class=\"dataframe\">\n",
              "  <thead>\n",
              "    <tr style=\"text-align: right;\">\n",
              "      <th></th>\n",
              "      <th>id</th>\n",
              "      <th>listing_url</th>\n",
              "      <th>property_type</th>\n",
              "      <th>street</th>\n",
              "      <th>neighbourhood</th>\n",
              "      <th>neighbourhood_group</th>\n",
              "      <th>beds</th>\n",
              "      <th>bed_type</th>\n",
              "      <th>room_type</th>\n",
              "      <th>amenities</th>\n",
              "      <th>price</th>\n",
              "      <th>security_deposit</th>\n",
              "      <th>cleaning_fee</th>\n",
              "      <th>guests_included</th>\n",
              "      <th>extra_people</th>\n",
              "      <th>minimum_nights</th>\n",
              "      <th>maximum_nights</th>\n",
              "      <th>number_of_reviews</th>\n",
              "      <th>host_is_superhost</th>\n",
              "      <th>summary</th>\n",
              "    </tr>\n",
              "  </thead>\n",
              "  <tbody>\n",
              "    <tr>\n",
              "      <th>1</th>\n",
              "      <td>2695</td>\n",
              "      <td>https://www.airbnb.com/rooms/2695</td>\n",
              "      <td>Apartment</td>\n",
              "      <td>Berlin, Berlin, Germany</td>\n",
              "      <td>Prenzlauer Berg Nordwest</td>\n",
              "      <td>Pankow</td>\n",
              "      <td>1.0</td>\n",
              "      <td>Real Bed</td>\n",
              "      <td>Private room</td>\n",
              "      <td>{Wifi,Kitchen,Elevator,Heating,Washer,Essentia...</td>\n",
              "      <td>17.0</td>\n",
              "      <td>0.0</td>\n",
              "      <td>0.0</td>\n",
              "      <td>1</td>\n",
              "      <td>0.0</td>\n",
              "      <td>2</td>\n",
              "      <td>40</td>\n",
              "      <td>6</td>\n",
              "      <td>f</td>\n",
              "      <td>NaN</td>\n",
              "    </tr>\n",
              "    <tr>\n",
              "      <th>3</th>\n",
              "      <td>3309</td>\n",
              "      <td>https://www.airbnb.com/rooms/3309</td>\n",
              "      <td>Apartment</td>\n",
              "      <td>Berlin, Berlin, Germany</td>\n",
              "      <td>Schöneberg-Nord</td>\n",
              "      <td>Tempelhof - Schöneberg</td>\n",
              "      <td>1.0</td>\n",
              "      <td>Pull-out Sofa</td>\n",
              "      <td>Private room</td>\n",
              "      <td>{Internet,Wifi,\"Pets allowed\",\"Pets live on th...</td>\n",
              "      <td>26.0</td>\n",
              "      <td>250.0</td>\n",
              "      <td>30.0</td>\n",
              "      <td>1</td>\n",
              "      <td>18.0</td>\n",
              "      <td>5</td>\n",
              "      <td>360</td>\n",
              "      <td>25</td>\n",
              "      <td>f</td>\n",
              "      <td>First of all: I prefer short-notice bookings. ...</td>\n",
              "    </tr>\n",
              "    <tr>\n",
              "      <th>4</th>\n",
              "      <td>7071</td>\n",
              "      <td>https://www.airbnb.com/rooms/7071</td>\n",
              "      <td>Apartment</td>\n",
              "      <td>Berlin, Berlin, Germany</td>\n",
              "      <td>Helmholtzplatz</td>\n",
              "      <td>Pankow</td>\n",
              "      <td>2.0</td>\n",
              "      <td>Real Bed</td>\n",
              "      <td>Private room</td>\n",
              "      <td>{Wifi,Heating,\"Family/kid friendly\",Essentials...</td>\n",
              "      <td>42.0</td>\n",
              "      <td>0.0</td>\n",
              "      <td>0.0</td>\n",
              "      <td>1</td>\n",
              "      <td>24.0</td>\n",
              "      <td>2</td>\n",
              "      <td>10</td>\n",
              "      <td>197</td>\n",
              "      <td>t</td>\n",
              "      <td>Cozy and large room in the beautiful district ...</td>\n",
              "    </tr>\n",
              "    <tr>\n",
              "      <th>5</th>\n",
              "      <td>9991</td>\n",
              "      <td>https://www.airbnb.com/rooms/9991</td>\n",
              "      <td>Apartment</td>\n",
              "      <td>Berlin, Berlin, Germany</td>\n",
              "      <td>Prenzlauer Berg Südwest</td>\n",
              "      <td>Pankow</td>\n",
              "      <td>7.0</td>\n",
              "      <td>Real Bed</td>\n",
              "      <td>Entire home/apt</td>\n",
              "      <td>{TV,\"Cable TV\",Internet,Wifi,Kitchen,\"Paid par...</td>\n",
              "      <td>180.0</td>\n",
              "      <td>400.0</td>\n",
              "      <td>80.0</td>\n",
              "      <td>5</td>\n",
              "      <td>10.0</td>\n",
              "      <td>6</td>\n",
              "      <td>14</td>\n",
              "      <td>6</td>\n",
              "      <td>f</td>\n",
              "      <td>4 bedroom with very large windows and outstand...</td>\n",
              "    </tr>\n",
              "    <tr>\n",
              "      <th>8</th>\n",
              "      <td>16644</td>\n",
              "      <td>https://www.airbnb.com/rooms/16644</td>\n",
              "      <td>Apartment</td>\n",
              "      <td>Berlin, Berlin, Germany</td>\n",
              "      <td>nördliche Luisenstadt</td>\n",
              "      <td>Friedrichshain-Kreuzberg</td>\n",
              "      <td>3.0</td>\n",
              "      <td>Real Bed</td>\n",
              "      <td>Entire home/apt</td>\n",
              "      <td>{TV,Wifi,Kitchen,\"Buzzer/wireless intercom\",He...</td>\n",
              "      <td>90.0</td>\n",
              "      <td>500.0</td>\n",
              "      <td>50.0</td>\n",
              "      <td>2</td>\n",
              "      <td>20.0</td>\n",
              "      <td>60</td>\n",
              "      <td>365</td>\n",
              "      <td>48</td>\n",
              "      <td>f</td>\n",
              "      <td>Light and sunny 2-Room-turn of the century-fla...</td>\n",
              "    </tr>\n",
              "  </tbody>\n",
              "</table>\n",
              "</div>"
            ],
            "text/plain": [
              "      id  ...                                            summary\n",
              "1   2695  ...                                                NaN\n",
              "3   3309  ...  First of all: I prefer short-notice bookings. ...\n",
              "4   7071  ...  Cozy and large room in the beautiful district ...\n",
              "5   9991  ...  4 bedroom with very large windows and outstand...\n",
              "8  16644  ...  Light and sunny 2-Room-turn of the century-fla...\n",
              "\n",
              "[5 rows x 20 columns]"
            ]
          },
          "metadata": {},
          "execution_count": 32
        }
      ]
    },
    {
      "cell_type": "markdown",
      "metadata": {
        "id": "nhiNLZMVd6FI"
      },
      "source": [
        "###Convert t and f values to numerical values in host_is_superhost"
      ]
    },
    {
      "cell_type": "code",
      "metadata": {
        "colab": {
          "base_uri": "https://localhost:8080/",
          "height": 625
        },
        "id": "e7L3O0rfeg0x",
        "outputId": "87af1811-6415-445a-c3e4-3cae23a4e0fb"
      },
      "source": [
        "data_frame['host_is_superhost'] = data_frame['host_is_superhost'].map({'f':0,'t':1})\n",
        "data_frame.head()"
      ],
      "execution_count": 33,
      "outputs": [
        {
          "output_type": "execute_result",
          "data": {
            "text/html": [
              "<div>\n",
              "<style scoped>\n",
              "    .dataframe tbody tr th:only-of-type {\n",
              "        vertical-align: middle;\n",
              "    }\n",
              "\n",
              "    .dataframe tbody tr th {\n",
              "        vertical-align: top;\n",
              "    }\n",
              "\n",
              "    .dataframe thead th {\n",
              "        text-align: right;\n",
              "    }\n",
              "</style>\n",
              "<table border=\"1\" class=\"dataframe\">\n",
              "  <thead>\n",
              "    <tr style=\"text-align: right;\">\n",
              "      <th></th>\n",
              "      <th>id</th>\n",
              "      <th>listing_url</th>\n",
              "      <th>property_type</th>\n",
              "      <th>street</th>\n",
              "      <th>neighbourhood</th>\n",
              "      <th>neighbourhood_group</th>\n",
              "      <th>beds</th>\n",
              "      <th>bed_type</th>\n",
              "      <th>room_type</th>\n",
              "      <th>amenities</th>\n",
              "      <th>price</th>\n",
              "      <th>security_deposit</th>\n",
              "      <th>cleaning_fee</th>\n",
              "      <th>guests_included</th>\n",
              "      <th>extra_people</th>\n",
              "      <th>minimum_nights</th>\n",
              "      <th>maximum_nights</th>\n",
              "      <th>number_of_reviews</th>\n",
              "      <th>host_is_superhost</th>\n",
              "      <th>summary</th>\n",
              "    </tr>\n",
              "  </thead>\n",
              "  <tbody>\n",
              "    <tr>\n",
              "      <th>1</th>\n",
              "      <td>2695</td>\n",
              "      <td>https://www.airbnb.com/rooms/2695</td>\n",
              "      <td>Apartment</td>\n",
              "      <td>Berlin, Berlin, Germany</td>\n",
              "      <td>Prenzlauer Berg Nordwest</td>\n",
              "      <td>Pankow</td>\n",
              "      <td>1.0</td>\n",
              "      <td>Real Bed</td>\n",
              "      <td>Private room</td>\n",
              "      <td>{Wifi,Kitchen,Elevator,Heating,Washer,Essentia...</td>\n",
              "      <td>17.0</td>\n",
              "      <td>0.0</td>\n",
              "      <td>0.0</td>\n",
              "      <td>1</td>\n",
              "      <td>0.0</td>\n",
              "      <td>2</td>\n",
              "      <td>40</td>\n",
              "      <td>6</td>\n",
              "      <td>0.0</td>\n",
              "      <td>NaN</td>\n",
              "    </tr>\n",
              "    <tr>\n",
              "      <th>3</th>\n",
              "      <td>3309</td>\n",
              "      <td>https://www.airbnb.com/rooms/3309</td>\n",
              "      <td>Apartment</td>\n",
              "      <td>Berlin, Berlin, Germany</td>\n",
              "      <td>Schöneberg-Nord</td>\n",
              "      <td>Tempelhof - Schöneberg</td>\n",
              "      <td>1.0</td>\n",
              "      <td>Pull-out Sofa</td>\n",
              "      <td>Private room</td>\n",
              "      <td>{Internet,Wifi,\"Pets allowed\",\"Pets live on th...</td>\n",
              "      <td>26.0</td>\n",
              "      <td>250.0</td>\n",
              "      <td>30.0</td>\n",
              "      <td>1</td>\n",
              "      <td>18.0</td>\n",
              "      <td>5</td>\n",
              "      <td>360</td>\n",
              "      <td>25</td>\n",
              "      <td>0.0</td>\n",
              "      <td>First of all: I prefer short-notice bookings. ...</td>\n",
              "    </tr>\n",
              "    <tr>\n",
              "      <th>4</th>\n",
              "      <td>7071</td>\n",
              "      <td>https://www.airbnb.com/rooms/7071</td>\n",
              "      <td>Apartment</td>\n",
              "      <td>Berlin, Berlin, Germany</td>\n",
              "      <td>Helmholtzplatz</td>\n",
              "      <td>Pankow</td>\n",
              "      <td>2.0</td>\n",
              "      <td>Real Bed</td>\n",
              "      <td>Private room</td>\n",
              "      <td>{Wifi,Heating,\"Family/kid friendly\",Essentials...</td>\n",
              "      <td>42.0</td>\n",
              "      <td>0.0</td>\n",
              "      <td>0.0</td>\n",
              "      <td>1</td>\n",
              "      <td>24.0</td>\n",
              "      <td>2</td>\n",
              "      <td>10</td>\n",
              "      <td>197</td>\n",
              "      <td>1.0</td>\n",
              "      <td>Cozy and large room in the beautiful district ...</td>\n",
              "    </tr>\n",
              "    <tr>\n",
              "      <th>5</th>\n",
              "      <td>9991</td>\n",
              "      <td>https://www.airbnb.com/rooms/9991</td>\n",
              "      <td>Apartment</td>\n",
              "      <td>Berlin, Berlin, Germany</td>\n",
              "      <td>Prenzlauer Berg Südwest</td>\n",
              "      <td>Pankow</td>\n",
              "      <td>7.0</td>\n",
              "      <td>Real Bed</td>\n",
              "      <td>Entire home/apt</td>\n",
              "      <td>{TV,\"Cable TV\",Internet,Wifi,Kitchen,\"Paid par...</td>\n",
              "      <td>180.0</td>\n",
              "      <td>400.0</td>\n",
              "      <td>80.0</td>\n",
              "      <td>5</td>\n",
              "      <td>10.0</td>\n",
              "      <td>6</td>\n",
              "      <td>14</td>\n",
              "      <td>6</td>\n",
              "      <td>0.0</td>\n",
              "      <td>4 bedroom with very large windows and outstand...</td>\n",
              "    </tr>\n",
              "    <tr>\n",
              "      <th>8</th>\n",
              "      <td>16644</td>\n",
              "      <td>https://www.airbnb.com/rooms/16644</td>\n",
              "      <td>Apartment</td>\n",
              "      <td>Berlin, Berlin, Germany</td>\n",
              "      <td>nördliche Luisenstadt</td>\n",
              "      <td>Friedrichshain-Kreuzberg</td>\n",
              "      <td>3.0</td>\n",
              "      <td>Real Bed</td>\n",
              "      <td>Entire home/apt</td>\n",
              "      <td>{TV,Wifi,Kitchen,\"Buzzer/wireless intercom\",He...</td>\n",
              "      <td>90.0</td>\n",
              "      <td>500.0</td>\n",
              "      <td>50.0</td>\n",
              "      <td>2</td>\n",
              "      <td>20.0</td>\n",
              "      <td>60</td>\n",
              "      <td>365</td>\n",
              "      <td>48</td>\n",
              "      <td>0.0</td>\n",
              "      <td>Light and sunny 2-Room-turn of the century-fla...</td>\n",
              "    </tr>\n",
              "  </tbody>\n",
              "</table>\n",
              "</div>"
            ],
            "text/plain": [
              "      id  ...                                            summary\n",
              "1   2695  ...                                                NaN\n",
              "3   3309  ...  First of all: I prefer short-notice bookings. ...\n",
              "4   7071  ...  Cozy and large room in the beautiful district ...\n",
              "5   9991  ...  4 bedroom with very large windows and outstand...\n",
              "8  16644  ...  Light and sunny 2-Room-turn of the century-fla...\n",
              "\n",
              "[5 rows x 20 columns]"
            ]
          },
          "metadata": {},
          "execution_count": 33
        }
      ]
    },
    {
      "cell_type": "markdown",
      "metadata": {
        "id": "o28n4IT4fran"
      },
      "source": [
        "###Clean Room Type attribute"
      ]
    },
    {
      "cell_type": "code",
      "metadata": {
        "colab": {
          "base_uri": "https://localhost:8080/"
        },
        "id": "B_qltCvMfujG",
        "outputId": "d78f3a76-04af-4e92-b500-0f64f18a260e"
      },
      "source": [
        "data_frame['room_type'].isnull().values.any()"
      ],
      "execution_count": 34,
      "outputs": [
        {
          "output_type": "execute_result",
          "data": {
            "text/plain": [
              "False"
            ]
          },
          "metadata": {},
          "execution_count": 34
        }
      ]
    },
    {
      "cell_type": "markdown",
      "metadata": {
        "id": "AmmwmxYSgt7_"
      },
      "source": [
        "No cleaning required"
      ]
    },
    {
      "cell_type": "markdown",
      "metadata": {
        "id": "KGJNFxk0eujQ"
      },
      "source": [
        "##Drawing insights"
      ]
    },
    {
      "cell_type": "markdown",
      "metadata": {
        "id": "MrzDEX2JdH8w"
      },
      "source": [
        "###Which neighbourhoods are the best to start a new Airbnb?"
      ]
    },
    {
      "cell_type": "code",
      "metadata": {
        "colab": {
          "base_uri": "https://localhost:8080/"
        },
        "id": "M6sr0Hstfkg8",
        "outputId": "146af6e7-9f9f-4f90-8607-f41850d8deb0"
      },
      "source": [
        "print('Neighbourhoods which has maximum number of Airbnb are\\n', data_frame['neighbourhood'].value_counts())\n",
        "data_frame['neighbourhood'].describe()"
      ],
      "execution_count": 35,
      "outputs": [
        {
          "output_type": "stream",
          "name": "stdout",
          "text": [
            "Neighbourhoods which has maximum number of Airbnb are\n",
            " Frankfurter Allee Süd FK    526\n",
            "Tempelhofer Vorstadt        520\n",
            "Alexanderplatz              403\n",
            "Reuterstraße                384\n",
            "Rixdorf                     380\n",
            "                           ... \n",
            "Haselhorst                    1\n",
            "MV 2                          1\n",
            "Altstadt-Kietz                1\n",
            "Heerstraße Nord               1\n",
            "Allende-Viertel               1\n",
            "Name: neighbourhood, Length: 135, dtype: int64\n"
          ]
        },
        {
          "output_type": "execute_result",
          "data": {
            "text/plain": [
              "count                         9241\n",
              "unique                         135\n",
              "top       Frankfurter Allee Süd FK\n",
              "freq                           526\n",
              "Name: neighbourhood, dtype: object"
            ]
          },
          "metadata": {},
          "execution_count": 35
        }
      ]
    },
    {
      "cell_type": "markdown",
      "metadata": {
        "id": "z6OwDC9jbT6p"
      },
      "source": [
        "Lets check without the neighbourhoods which have less than 200 Airbnbs as they imply that those are not the most popular areas"
      ]
    },
    {
      "cell_type": "code",
      "metadata": {
        "colab": {
          "base_uri": "https://localhost:8080/"
        },
        "id": "Z24p0Jglbg6B",
        "outputId": "5db5932f-f59c-45a5-a6d7-9faddf286939"
      },
      "source": [
        "counts = data_frame['neighbourhood'].value_counts()\n",
        "data_frame_neighbourhood = data_frame[~data_frame['neighbourhood'].isin(counts[counts < 200].index)]\n",
        "data_frame.shape"
      ],
      "execution_count": 36,
      "outputs": [
        {
          "output_type": "execute_result",
          "data": {
            "text/plain": [
              "(9241, 20)"
            ]
          },
          "metadata": {},
          "execution_count": 36
        }
      ]
    },
    {
      "cell_type": "code",
      "metadata": {
        "id": "tZodBZvsb2ic"
      },
      "source": [
        "neighbourhood_count = data_frame_neighbourhood['neighbourhood'].value_counts()"
      ],
      "execution_count": 37,
      "outputs": []
    },
    {
      "cell_type": "code",
      "metadata": {
        "colab": {
          "base_uri": "https://localhost:8080/",
          "height": 265
        },
        "id": "1y5mkXHzPD5M",
        "outputId": "c97da5b3-4677-482a-98cc-3baa6080b3a0"
      },
      "source": [
        "neighbourhood_count.plot(kind='pie')"
      ],
      "execution_count": 38,
      "outputs": [
        {
          "output_type": "execute_result",
          "data": {
            "text/plain": [
              "<matplotlib.axes._subplots.AxesSubplot at 0x7f454afc5090>"
            ]
          },
          "metadata": {},
          "execution_count": 38
        },
        {
          "output_type": "display_data",
          "data": {
            "image/png": "[encoded data removed]",
            "text/plain": [
              "<Figure size 432x288 with 1 Axes>"
            ]
          },
          "metadata": {}
        }
      ]
    },
    {
      "cell_type": "markdown",
      "metadata": {
        "id": "TmNM94KUcDTX"
      },
      "source": [
        "The above pie chart now shows the most popular neighbourhoods with Airbnbs which will be a good place to start a new Airbnb with the maximum number present in Frankfurter Alle Sud FK"
      ]
    },
    {
      "cell_type": "code",
      "metadata": {
        "colab": {
          "base_uri": "https://localhost:8080/"
        },
        "id": "Wy6nYpCpdd2M",
        "outputId": "8be28067-bd97-4e5d-9e59-21227bd0fbe5"
      },
      "source": [
        "data_frame.shape"
      ],
      "execution_count": 39,
      "outputs": [
        {
          "output_type": "execute_result",
          "data": {
            "text/plain": [
              "(9241, 20)"
            ]
          },
          "metadata": {},
          "execution_count": 39
        }
      ]
    },
    {
      "cell_type": "markdown",
      "metadata": {
        "id": "qM0_tyEXFvwi"
      },
      "source": [
        "###What amenities are rare which might interest people in but are not offered by many Airbnbs?"
      ]
    },
    {
      "cell_type": "code",
      "metadata": {
        "colab": {
          "base_uri": "https://localhost:8080/"
        },
        "id": "MAWBvJc2GrX-",
        "outputId": "77188cb1-9ba7-41b2-e6ed-6e86834a209b"
      },
      "source": [
        "from collections import Counter\n",
        "\n",
        "amenities_counter = Counter()\n",
        "data_frame['amenities'].str.strip('{}')\\\n",
        "               .str.replace('\"', '')\\\n",
        "               .str.lstrip('\\\"')\\\n",
        "               .str.rstrip('\\\"')\\\n",
        "               .str.split(',')\\\n",
        "               .apply(amenities_counter.update)\n",
        "\n",
        "amenities_counter.most_common(25)"
      ],
      "execution_count": 40,
      "outputs": [
        {
          "output_type": "execute_result",
          "data": {
            "text/plain": [
              "[('Wifi', 8918),\n",
              " ('Heating', 8747),\n",
              " ('Kitchen', 8707),\n",
              " ('Essentials', 8585),\n",
              " ('Washer', 7594),\n",
              " ('Hair dryer', 6674),\n",
              " ('Laptop friendly workspace', 6353),\n",
              " ('Hangers', 6220),\n",
              " ('Iron', 4936),\n",
              " ('Hot water', 4834),\n",
              " ('Shampoo', 4763),\n",
              " ('TV', 4147),\n",
              " ('Family/kid friendly', 3501),\n",
              " ('Host greets you', 3456),\n",
              " ('Internet', 3032),\n",
              " ('Smoke detector', 2815),\n",
              " ('Free street parking', 2689),\n",
              " ('Refrigerator', 2673),\n",
              " ('Dishes and silverware', 2599),\n",
              " ('Bed linens', 2489),\n",
              " ('Cooking basics', 2443),\n",
              " ('Stove', 2432),\n",
              " ('Lock on bedroom door', 2411),\n",
              " ('Buzzer/wireless intercom', 2390),\n",
              " ('Oven', 2175)]"
            ]
          },
          "metadata": {},
          "execution_count": 40
        }
      ]
    },
    {
      "cell_type": "code",
      "metadata": {
        "colab": {
          "base_uri": "https://localhost:8080/",
          "height": 458
        },
        "id": "QaWTcHGhKQen",
        "outputId": "871f795f-134c-4cb8-fee8-cf846d167630"
      },
      "source": [
        "data_frame_amenities = pd.DataFrame(amenities_counter.most_common(30), columns=['amenity_name', 'count'])\n",
        "\n",
        "data_frame_amenities.plot(kind='barh', x='amenity_name', y='count', figsize=(10,7), legend=False, color='blue', title='Amenity vs Count')\n",
        "plt.xlabel('Count');\n",
        "plt.ylabel('Amenity');"
      ],
      "execution_count": 41,
      "outputs": [
        {
          "output_type": "display_data",
          "data": {
            "image/png": "[encoded data removed]",
            "text/plain": [
              "<Figure size 720x504 with 1 Axes>"
            ]
          },
          "metadata": {
            "needs_background": "light"
          }
        }
      ]
    },
    {
      "cell_type": "markdown",
      "metadata": {
        "id": "548Nhoe3NAZg"
      },
      "source": [
        "There are few unique amenities such as Laptop friendly workspace, Free street parking, Family/ kid friendly, Host greets you, Iron which are rare but liked by people."
      ]
    },
    {
      "cell_type": "markdown",
      "metadata": {
        "id": "a7_R_1bJoaeH"
      },
      "source": [
        "###Checking what percentage of hosts are superhosts"
      ]
    },
    {
      "cell_type": "code",
      "metadata": {
        "colab": {
          "base_uri": "https://localhost:8080/",
          "height": 297
        },
        "id": "pQRt0MB6qhrf",
        "outputId": "c46f22d7-0e36-4837-e63c-a4b4f0af62f1"
      },
      "source": [
        "super_host    = data_frame.host_is_superhost.value_counts()[1.0]\n",
        "not_super_host = data_frame.host_is_superhost.value_counts()[0.0]\n",
        "names = ['Super Hosts','Not Super Hosts']\n",
        "size  = [super_host, not_super_host]\n",
        "explode = (0, 0.1)\n",
        "colors = ['#369AB9', '#B90B4B']\n",
        "fig1, ax1 = plt.subplots()\n",
        "ax1.pie(size, explode=explode, labels=names, colors=colors, autopct='%1.1f%%',\n",
        "        shadow=True, startangle=90)\n",
        "ax1.axis('equal')\n",
        "plt.tight_layout()\n",
        "plt.show()"
      ],
      "execution_count": 42,
      "outputs": [
        {
          "output_type": "display_data",
          "data": {
            "image/png": "[encoded data removed]",
            "text/plain": [
              "<Figure size 432x288 with 1 Axes>"
            ]
          },
          "metadata": {}
        }
      ]
    },
    {
      "cell_type": "markdown",
      "metadata": {
        "id": "PO9l3ifWsyN_"
      },
      "source": [
        "Since we know that there are not many superhosts in the neighbourhood, it will be a added value for a new Airbnb as people prefer Airbnbs which has a superhost"
      ]
    },
    {
      "cell_type": "markdown",
      "metadata": {
        "id": "Oj6f08Xw0_Sz"
      },
      "source": [
        "###Which neighbourhood has the most priced Airbnbs?"
      ]
    },
    {
      "cell_type": "code",
      "metadata": {
        "colab": {
          "base_uri": "https://localhost:8080/",
          "height": 375
        },
        "id": "g01WqnBv0aaB",
        "outputId": "3da78a42-17cd-42c7-f342-7b7f77819f22"
      },
      "source": [
        "plt.figure(figsize=(40,10))\n",
        "sns.barplot(x=data_frame_neighbourhood['neighbourhood'], y=data_frame_neighbourhood['price'], palette=sns.color_palette('magma', n_colors=12))"
      ],
      "execution_count": 43,
      "outputs": [
        {
          "output_type": "execute_result",
          "data": {
            "text/plain": [
              "<matplotlib.axes._subplots.AxesSubplot at 0x7f4549e2fb50>"
            ]
          },
          "metadata": {},
          "execution_count": 43
        },
        {
          "output_type": "display_data",
          "data": {
            "image/png": "[encoded data removed]",
            "text/plain": [
              "<Figure size 2880x720 with 1 Axes>"
            ]
          },
          "metadata": {
            "needs_background": "light"
          }
        }
      ]
    },
    {
      "cell_type": "markdown",
      "metadata": {
        "id": "RloNDzzh1cQJ"
      },
      "source": [
        "As we see in the above graph, there is not a significant difference in the price of Airbnb. Brunnestr Sud has an edge over the others but still the difference is not huge to gain any insights. Let us try to check in the neighbourhood groups.\n"
      ]
    },
    {
      "cell_type": "code",
      "metadata": {
        "colab": {
          "base_uri": "https://localhost:8080/",
          "height": 375
        },
        "id": "j9V7eSrVGinC",
        "outputId": "2c8795d1-7aa1-427e-d209-41d0ee62ffcc"
      },
      "source": [
        "plt.figure(figsize=(40,10))\n",
        "sns.barplot(x=data_frame_neighbourhood['neighbourhood_group'], y=data_frame_neighbourhood['price'], palette=sns.color_palette('magma', n_colors=12))"
      ],
      "execution_count": 44,
      "outputs": [
        {
          "output_type": "execute_result",
          "data": {
            "text/plain": [
              "<matplotlib.axes._subplots.AxesSubplot at 0x7f4549e1e050>"
            ]
          },
          "metadata": {},
          "execution_count": 44
        },
        {
          "output_type": "display_data",
          "data": {
            "image/png": "[encoded data removed]",
            "text/plain": [
              "<Figure size 2880x720 with 1 Axes>"
            ]
          },
          "metadata": {
            "needs_background": "light"
          }
        }
      ]
    },
    {
      "cell_type": "markdown",
      "metadata": {
        "id": "KzyyltGoG9NM"
      },
      "source": [
        "It can be said that comparatively Mitte and Pankow have few more Airbnbs even though its still not that evidently having a larger count."
      ]
    },
    {
      "cell_type": "markdown",
      "metadata": {
        "id": "ZTmxF3Ljg-1H"
      },
      "source": [
        "###Gaining insights as to which room type is more prominently present in Berlin"
      ]
    },
    {
      "cell_type": "code",
      "metadata": {
        "colab": {
          "base_uri": "https://localhost:8080/",
          "height": 281
        },
        "id": "yiJTbPGwibcr",
        "outputId": "7d6bb206-d117-4460-84c7-2cfcef92177e"
      },
      "source": [
        "room_type_count = data_frame['room_type'].value_counts()\n",
        "room_type_count.plot(kind='pie', autopct='%1.1f%%', title='Room Types')"
      ],
      "execution_count": 45,
      "outputs": [
        {
          "output_type": "execute_result",
          "data": {
            "text/plain": [
              "<matplotlib.axes._subplots.AxesSubplot at 0x7f454a65d710>"
            ]
          },
          "metadata": {},
          "execution_count": 45
        },
        {
          "output_type": "display_data",
          "data": {
            "image/png": "[encoded data removed]",
            "text/plain": [
              "<Figure size 432x288 with 1 Axes>"
            ]
          },
          "metadata": {}
        }
      ]
    },
    {
      "cell_type": "markdown",
      "metadata": {
        "id": "fQbjMTbkljjo"
      },
      "source": [
        "As we can see it is mostly private rooms or entire home/apt which is prominent type of Airbnb in Berlin.\n",
        "\n"
      ]
    }
  ]
}